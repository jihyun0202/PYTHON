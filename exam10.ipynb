{
 "cells": [
  {
   "cell_type": "markdown",
   "metadata": {},
   "source": [
    "# 파이썬의 문자열 처리"
   ]
  },
  {
   "cell_type": "markdown",
   "metadata": {},
   "source": [
    "<img src='images/string1.jpg' width=500 height=400>"
   ]
  },
  {
   "cell_type": "code",
   "execution_count": 1,
   "metadata": {},
   "outputs": [
    {
     "name": "stdout",
     "output_type": "stream",
     "text": [
      "['web', 'is', 'free']\n",
      "web-is-free\n"
     ]
    }
   ],
   "source": [
    "site = 'web-is-free'\n",
    "print(site.split('-'))\n",
    "site = [ \"web\", \"is\", \"free\" ]\n",
    "print(\"-\".join(site))"
   ]
  },
  {
   "cell_type": "code",
   "execution_count": null,
   "metadata": {},
   "outputs": [],
   "source": [
    "import re\n",
    "word = \"JAVA   가나다 javascript Aa 가나다 AAaAaA123 %^&* 파이썬\"\n",
    "print(re.sub(\"A\", \"\", word))\n",
    "print(re.sub(\"a\", \"\", word)) \n",
    "print(re.sub(\"Aa\", \"\", word)) \n",
    "print(re.sub(\"(Aa){2}\", \"\", word))#Aa가 두번 붙어있는거 없애라   // ()없으면 aa가 두번\n",
    "print(re.sub(\"[Aa]\", \"\", word)) #A나 a"
   ]
  },
  {
   "cell_type": "code",
   "execution_count": null,
   "metadata": {},
   "outputs": [],
   "source": [
    "print(re.sub(\"[가-힣]\", \"\", word)) #한글만 없애기\n",
    "print(re.sub(\"[^가-힣]\", \"\", word)) #^=not  :  한글만 남기기"
   ]
  },
  {
   "cell_type": "code",
   "execution_count": null,
   "metadata": {},
   "outputs": [],
   "source": [
    "print(re.sub(\"[&^%*]\", \"\", word))\n",
    "print(re.sub(\"[^가-힣A-Za-z0-9\\s]\", \"\", word))#특수문자 없애기"
   ]
  },
  {
   "cell_type": "code",
   "execution_count": 2,
   "metadata": {},
   "outputs": [
    {
     "ename": "NameError",
     "evalue": "name 're' is not defined",
     "output_type": "error",
     "traceback": [
      "\u001b[1;31m---------------------------------------------------------------------------\u001b[0m",
      "\u001b[1;31mNameError\u001b[0m                                 Traceback (most recent call last)",
      "\u001b[1;32m<ipython-input-2-4002f32f3297>\u001b[0m in \u001b[0;36m<module>\u001b[1;34m\u001b[0m\n\u001b[1;32m----> 1\u001b[1;33m \u001b[0mprint\u001b[0m\u001b[1;33m(\u001b[0m\u001b[0mre\u001b[0m\u001b[1;33m.\u001b[0m\u001b[0msub\u001b[0m\u001b[1;33m(\u001b[0m\u001b[1;34m\"[\\w\\s]\"\u001b[0m\u001b[1;33m,\u001b[0m \u001b[1;34m\"\"\u001b[0m\u001b[1;33m,\u001b[0m \u001b[0mword\u001b[0m\u001b[1;33m)\u001b[0m\u001b[1;33m)\u001b[0m \u001b[1;31m#워드랑 공백 없애기\u001b[0m\u001b[1;33m\u001b[0m\u001b[1;33m\u001b[0m\u001b[0m\n\u001b[0m\u001b[0;32m      2\u001b[0m \u001b[0mprint\u001b[0m\u001b[1;33m(\u001b[0m\u001b[0mre\u001b[0m\u001b[1;33m.\u001b[0m\u001b[0msub\u001b[0m\u001b[1;33m(\u001b[0m\u001b[1;34m\"\\s\"\u001b[0m\u001b[1;33m,\u001b[0m \u001b[1;34m\"\"\u001b[0m\u001b[1;33m,\u001b[0m \u001b[0mword\u001b[0m\u001b[1;33m)\u001b[0m\u001b[1;33m)\u001b[0m \u001b[1;31m#공백없애기\u001b[0m\u001b[1;33m\u001b[0m\u001b[1;33m\u001b[0m\u001b[0m\n\u001b[0;32m      3\u001b[0m \u001b[0mprint\u001b[0m\u001b[1;33m(\u001b[0m\u001b[0mre\u001b[0m\u001b[1;33m.\u001b[0m\u001b[0msub\u001b[0m\u001b[1;33m(\u001b[0m\u001b[1;34m\"\\d\"\u001b[0m\u001b[1;33m,\u001b[0m \u001b[1;34m\"\"\u001b[0m\u001b[1;33m,\u001b[0m \u001b[0mword\u001b[0m\u001b[1;33m)\u001b[0m\u001b[1;33m)\u001b[0m \u001b[1;31m#숫자 없애기\u001b[0m\u001b[1;33m\u001b[0m\u001b[1;33m\u001b[0m\u001b[0m\n\u001b[0;32m      4\u001b[0m \u001b[0mprint\u001b[0m\u001b[1;33m(\u001b[0m\u001b[0mre\u001b[0m\u001b[1;33m.\u001b[0m\u001b[0msub\u001b[0m\u001b[1;33m(\u001b[0m\u001b[1;34m\"\\D\"\u001b[0m\u001b[1;33m,\u001b[0m \u001b[1;34m\"\"\u001b[0m\u001b[1;33m,\u001b[0m \u001b[0mword\u001b[0m\u001b[1;33m)\u001b[0m\u001b[1;33m)\u001b[0m \u001b[1;31m#숫자가 아닌거 없애기\u001b[0m\u001b[1;33m\u001b[0m\u001b[1;33m\u001b[0m\u001b[0m\n",
      "\u001b[1;31mNameError\u001b[0m: name 're' is not defined"
     ]
    }
   ],
   "source": [
    "print(re.sub(\"[\\w\\s]\", \"\", word)) #워드랑 공백 없애기\n",
    "print(re.sub(\"\\s\", \"\", word)) #공백없애기\n",
    "print(re.sub(\"\\d\", \"\", word)) #숫자 없애기\n",
    "print(re.sub(\"\\D\", \"\", word)) #숫자가 아닌거 없애기"
   ]
  },
  {
   "cell_type": "code",
   "execution_count": null,
   "metadata": {},
   "outputs": [],
   "source": [
    "print(re.sub(\"[^\\w]\", \"\", word))\n",
    "print(re.sub(\"\\W\", \"\", word))"
   ]
  },
  {
   "cell_type": "code",
   "execution_count": null,
   "metadata": {},
   "outputs": [],
   "source": [
    "new_word = re.sub(\"[^가-힣\\s]\", \"\", word)\n",
    "print(new_word)"
   ]
  },
  {
   "cell_type": "code",
   "execution_count": null,
   "metadata": {},
   "outputs": [],
   "source": [
    "new_word = re.sub(\"\\s+\", \" \", new_word)#여러개의 공백을 하나의 공백ㅇ로 \n",
    "print(new_word)"
   ]
  },
  {
   "cell_type": "code",
   "execution_count": null,
   "metadata": {},
   "outputs": [],
   "source": [
    "print(new_word.strip())#앞,뒤에 있는 공백 없애기"
   ]
  },
  {
   "cell_type": "markdown",
   "metadata": {},
   "source": [
    "# 파이썬으로 구현하는 텍스트 분석(자연어 처리)"
   ]
  },
  {
   "cell_type": "markdown",
   "metadata": {},
   "source": [
    "-----"
   ]
  },
  {
   "cell_type": "markdown",
   "metadata": {},
   "source": [
    "### 1. koNLPy를 활용한 형태소 분석\n",
    "### 2. 워드 클라우드\n",
    "### 3. 한국어 기반의 자연어 처리 모듈 - nltk\n",
    "### 4. 텍스트 전처리\n",
    "### 5. 카운트 기반의 단어 표현\n",
    "### 6. 한글 자모 분해와 결합"
   ]
  },
  {
   "cell_type": "markdown",
   "metadata": {},
   "source": [
    "## KoNLPy : 한국어 정보처리를 위한 파이썬 패키지 (https://konlpy.org/ko/latest/)"
   ]
  },
  {
   "cell_type": "markdown",
   "metadata": {},
   "source": [
    "## 1. koNLPy를 활용한 형태소 분석"
   ]
  },
  {
   "cell_type": "code",
   "execution_count": 3,
   "metadata": {},
   "outputs": [],
   "source": [
    "from konlpy.tag import Kkma\n",
    "from konlpy.utils import pprint\n",
    "import pandas as pd\n",
    "import numpy as np "
   ]
  },
  {
   "cell_type": "code",
   "execution_count": 4,
   "metadata": {},
   "outputs": [],
   "source": [
    "kkma = Kkma()"
   ]
  },
  {
   "cell_type": "code",
   "execution_count": 5,
   "metadata": {},
   "outputs": [
    {
     "name": "stdout",
     "output_type": "stream",
     "text": [
      "['네, 안녕하세요.', '반갑습니다.']\n"
     ]
    }
   ],
   "source": [
    "pprint(kkma.sentences('네, 안녕하세요. 반갑습니다.')) #문장 나누는거"
   ]
  },
  {
   "cell_type": "code",
   "execution_count": 6,
   "metadata": {},
   "outputs": [
    {
     "name": "stdout",
     "output_type": "stream",
     "text": [
      "['질문', '건의', '건의사항', '사항', '깃헙', '이슈', '트래커']\n"
     ]
    }
   ],
   "source": [
    "pprint(kkma.nouns('질문이나 건의사항은 깃헙 이슈 트래커에 남겨주세요.')) # 명사 알려줌\n"
   ]
  },
  {
   "cell_type": "code",
   "execution_count": 7,
   "metadata": {},
   "outputs": [
    {
     "name": "stdout",
     "output_type": "stream",
     "text": [
      "[('오류', 'NNG'),\n",
      " ('보고', 'NNG'),\n",
      " ('는', 'JX'),\n",
      " ('실행', 'NNG'),\n",
      " ('환경', 'NNG'),\n",
      " (',', 'SP'),\n",
      " ('에러', 'NNG'),\n",
      " ('메세지', 'NNG'),\n",
      " ('와', 'JKM'),\n",
      " ('함께', 'MAG'),\n",
      " ('설명', 'NNG'),\n",
      " ('을', 'JKO'),\n",
      " ('최대한', 'NNG'),\n",
      " ('상세히', 'MAG'),\n",
      " ('!', 'SF'),\n",
      " ('^^', 'EMO')]\n"
     ]
    }
   ],
   "source": [
    "pprint(kkma.pos('오류보고는 실행환경, 에러메세지와함께 설명을 최대한상세히!^^')) #각 단어들의 품사 알려줌"
   ]
  },
  {
   "cell_type": "markdown",
   "metadata": {},
   "source": [
    "### [형태소 분석기 비교]"
   ]
  },
  {
   "cell_type": "code",
   "execution_count": 9,
   "metadata": {},
   "outputs": [],
   "source": [
    "sample = '이것은 형태소 분석기 입니다 아버지가방에들어가신다'"
   ]
  },
  {
   "cell_type": "code",
   "execution_count": 12,
   "metadata": {},
   "outputs": [
    {
     "name": "stdout",
     "output_type": "stream",
     "text": [
      "['이것', '형태소', '분석기', '아버지가방에들어가']\n",
      "['이것', '은', '형태소', '분석기', '일', 'ㅂ니다', '아버지가방에들어가', '이', '시ㄴ다']\n",
      "[('이것', 'N'),\n",
      " ('은', 'J'),\n",
      " ('형태소', 'N'),\n",
      " ('분석기', 'N'),\n",
      " ('일', 'P'),\n",
      " ('ㅂ니다', 'E'),\n",
      " ('아버지가방에들어가', 'N'),\n",
      " ('이', 'J'),\n",
      " ('시ㄴ다', 'E')]\n"
     ]
    }
   ],
   "source": [
    "from konlpy.tag import Hannanum  \n",
    "hannanum = Hannanum() \n",
    "pprint(hannanum.nouns(sample))\n",
    "pprint(hannanum.morphs(sample))\n",
    "pprint(hannanum.pos(sample))"
   ]
  },
  {
   "cell_type": "code",
   "execution_count": 11,
   "metadata": {},
   "outputs": [
    {
     "name": "stdout",
     "output_type": "stream",
     "text": [
      "['이것', '형태소', '분석기', '아버지', '아버지가방', '가방']\n",
      "['이것', '은', '형태소', '분석기', '이', 'ㅂ니다', '아버지', '가방', '에', '들어가', '시', 'ㄴ다']\n",
      "[('이것', 'NP'),\n",
      " ('은', 'JX'),\n",
      " ('형태소', 'NNG'),\n",
      " ('분석기', 'NNG'),\n",
      " ('이', 'VCP'),\n",
      " ('ㅂ니다', 'EFN'),\n",
      " ('아버지', 'NNG'),\n",
      " ('가방', 'NNG'),\n",
      " ('에', 'JKM'),\n",
      " ('들어가', 'VV'),\n",
      " ('시', 'EPH'),\n",
      " ('ㄴ다', 'EFN')]\n"
     ]
    }
   ],
   "source": [
    "kkma = Kkma() \n",
    "pprint(kkma.nouns(sample))\n",
    "pprint(kkma.morphs(sample))\n",
    "pprint(kkma.pos(sample))"
   ]
  },
  {
   "cell_type": "code",
   "execution_count": 13,
   "metadata": {},
   "outputs": [
    {
     "name": "stdout",
     "output_type": "stream",
     "text": [
      "['것', '형태소', '분석', '기', '아버지', '가방']\n",
      "['이', '것', '은', '형태소', '분석', '기', '입니다', '아버지', '가방', '에', '들어가신다']\n",
      "[('이', 'Determiner'),\n",
      " ('것', 'Noun'),\n",
      " ('은', 'Josa'),\n",
      " ('형태소', 'Noun'),\n",
      " ('분석', 'Noun'),\n",
      " ('기', 'Noun'),\n",
      " ('입니다', 'Adjective'),\n",
      " ('아버지', 'Noun'),\n",
      " ('가방', 'Noun'),\n",
      " ('에', 'Josa'),\n",
      " ('들어가신다', 'Verb')]\n"
     ]
    }
   ],
   "source": [
    "from konlpy.tag import Okt                                 \n",
    "okt = Okt()\n",
    "pprint(okt.nouns(sample))\n",
    "pprint(okt.morphs(sample))\n",
    "pprint(okt.pos(sample))"
   ]
  },
  {
   "cell_type": "code",
   "execution_count": null,
   "metadata": {},
   "outputs": [],
   "source": [
    "from konlpy.tag import Komoran                    \n",
    "komoran = Komoran()\n",
    "pprint(komoran.nouns(sample))\n",
    "pprint(komoran.morphs(sample))\n",
    "pprint(komoran.pos(sample))"
   ]
  },
  {
   "cell_type": "code",
   "execution_count": 14,
   "metadata": {},
   "outputs": [
    {
     "data": {
      "text/plain": [
       "{'E': '어미',\n",
       " 'EC': '연결 어미',\n",
       " 'EF': '종결 어미',\n",
       " 'EP': '선어말어미',\n",
       " 'ET': '전성 어미',\n",
       " 'F': '외국어',\n",
       " 'I': '독립언',\n",
       " 'II': '감탄사',\n",
       " 'J': '관계언',\n",
       " 'JC': '격조사',\n",
       " 'JP': '서술격 조사',\n",
       " 'JX': '보조사',\n",
       " 'M': '수식언',\n",
       " 'MA': '부사',\n",
       " 'MM': '관형사',\n",
       " 'N': '체언',\n",
       " 'NB': '의존명사',\n",
       " 'NC': '보통명사',\n",
       " 'NN': '수사',\n",
       " 'NP': '대명사',\n",
       " 'NQ': '고유명사',\n",
       " 'P': '용언',\n",
       " 'PA': '형용사',\n",
       " 'PV': '동사',\n",
       " 'PX': '보조 용언',\n",
       " 'S': '기호',\n",
       " 'X': '접사',\n",
       " 'XP': '접두사',\n",
       " 'XS': '접미사'}"
      ]
     },
     "execution_count": 14,
     "metadata": {},
     "output_type": "execute_result"
    }
   ],
   "source": [
    "hannanum.tagset"
   ]
  },
  {
   "cell_type": "code",
   "execution_count": 16,
   "metadata": {},
   "outputs": [
    {
     "data": {
      "text/plain": [
       "{'EC': '연결 어미',\n",
       " 'ECD': '의존적 연결 어미',\n",
       " 'ECE': '대등 연결 어미',\n",
       " 'ECS': '보조적 연결 어미',\n",
       " 'EF': '종결 어미',\n",
       " 'EFA': '청유형 종결 어미',\n",
       " 'EFI': '감탄형 종결 어미',\n",
       " 'EFN': '평서형 종결 어미',\n",
       " 'EFO': '명령형 종결 어미',\n",
       " 'EFQ': '의문형 종결 어미',\n",
       " 'EFR': '존칭형 종결 어미',\n",
       " 'EP': '선어말 어미',\n",
       " 'EPH': '존칭 선어말 어미',\n",
       " 'EPP': '공손 선어말 어미',\n",
       " 'EPT': '시제 선어말 어미',\n",
       " 'ET': '전성 어미',\n",
       " 'ETD': '관형형 전성 어미',\n",
       " 'ETN': '명사형 전성 어미',\n",
       " 'IC': '감탄사',\n",
       " 'JC': '접속 조사',\n",
       " 'JK': '조사',\n",
       " 'JKC': '보격 조사',\n",
       " 'JKG': '관형격 조사',\n",
       " 'JKI': '호격 조사',\n",
       " 'JKM': '부사격 조사',\n",
       " 'JKO': '목적격 조사',\n",
       " 'JKQ': '인용격 조사',\n",
       " 'JKS': '주격 조사',\n",
       " 'JX': '보조사',\n",
       " 'MA': '부사',\n",
       " 'MAC': '접속 부사',\n",
       " 'MAG': '일반 부사',\n",
       " 'MD': '관형사',\n",
       " 'MDN': '수 관형사',\n",
       " 'MDT': '일반 관형사',\n",
       " 'NN': '명사',\n",
       " 'NNB': '일반 의존 명사',\n",
       " 'NNG': '보통명사',\n",
       " 'NNM': '단위 의존 명사',\n",
       " 'NNP': '고유명사',\n",
       " 'NP': '대명사',\n",
       " 'NR': '수사',\n",
       " 'OH': '한자',\n",
       " 'OL': '외국어',\n",
       " 'ON': '숫자',\n",
       " 'SE': '줄임표',\n",
       " 'SF': '마침표, 물음표, 느낌표',\n",
       " 'SO': '붙임표(물결,숨김,빠짐)',\n",
       " 'SP': '쉼표,가운뎃점,콜론,빗금',\n",
       " 'SS': '따옴표,괄호표,줄표',\n",
       " 'SW': '기타기호 (논리수학기호,화폐기호)',\n",
       " 'UN': '명사추정범주',\n",
       " 'VA': '형용사',\n",
       " 'VC': '지정사',\n",
       " 'VCN': \"부정 지정사, 형용사 '아니다'\",\n",
       " 'VCP': \"긍정 지정사, 서술격 조사 '이다'\",\n",
       " 'VV': '동사',\n",
       " 'VX': '보조 용언',\n",
       " 'VXA': '보조 형용사',\n",
       " 'VXV': '보조 동사',\n",
       " 'XP': '접두사',\n",
       " 'XPN': '체언 접두사',\n",
       " 'XPV': '용언 접두사',\n",
       " 'XR': '어근',\n",
       " 'XSA': '형용사 파생 접미사',\n",
       " 'XSN': '명사파생 접미사',\n",
       " 'XSV': '동사 파생 접미사'}"
      ]
     },
     "execution_count": 16,
     "metadata": {},
     "output_type": "execute_result"
    }
   ],
   "source": [
    "kkma.tagset"
   ]
  },
  {
   "cell_type": "code",
   "execution_count": 17,
   "metadata": {},
   "outputs": [
    {
     "data": {
      "text/plain": [
       "{'Adjective': '형용사',\n",
       " 'Adverb': '부사',\n",
       " 'Alpha': '알파벳',\n",
       " 'Conjunction': '접속사',\n",
       " 'Determiner': '관형사',\n",
       " 'Eomi': '어미',\n",
       " 'Exclamation': '감탄사',\n",
       " 'Foreign': '외국어, 한자 및 기타기호',\n",
       " 'Hashtag': '트위터 해쉬태그',\n",
       " 'Josa': '조사',\n",
       " 'KoreanParticle': '(ex: ㅋㅋ)',\n",
       " 'Noun': '명사',\n",
       " 'Number': '숫자',\n",
       " 'PreEomi': '선어말어미',\n",
       " 'Punctuation': '구두점',\n",
       " 'ScreenName': '트위터 아이디',\n",
       " 'Suffix': '접미사',\n",
       " 'Unknown': '미등록어',\n",
       " 'Verb': '동사'}"
      ]
     },
     "execution_count": 17,
     "metadata": {},
     "output_type": "execute_result"
    }
   ],
   "source": [
    "okt.tagset"
   ]
  },
  {
   "cell_type": "code",
   "execution_count": 18,
   "metadata": {},
   "outputs": [
    {
     "ename": "NameError",
     "evalue": "name 'komoran' is not defined",
     "output_type": "error",
     "traceback": [
      "\u001b[1;31m---------------------------------------------------------------------------\u001b[0m",
      "\u001b[1;31mNameError\u001b[0m                                 Traceback (most recent call last)",
      "\u001b[1;32m<ipython-input-18-676969743964>\u001b[0m in \u001b[0;36m<module>\u001b[1;34m\u001b[0m\n\u001b[1;32m----> 1\u001b[1;33m \u001b[0mkomoran\u001b[0m\u001b[1;33m.\u001b[0m\u001b[0mtagset\u001b[0m\u001b[1;33m\u001b[0m\u001b[1;33m\u001b[0m\u001b[0m\n\u001b[0m",
      "\u001b[1;31mNameError\u001b[0m: name 'komoran' is not defined"
     ]
    }
   ],
   "source": [
    "komoran.tagset"
   ]
  },
  {
   "cell_type": "code",
   "execution_count": 19,
   "metadata": {},
   "outputs": [
    {
     "ename": "NameError",
     "evalue": "name 'komoran' is not defined",
     "output_type": "error",
     "traceback": [
      "\u001b[1;31m---------------------------------------------------------------------------\u001b[0m",
      "\u001b[1;31mNameError\u001b[0m                                 Traceback (most recent call last)",
      "\u001b[1;32m<ipython-input-19-c7b75a768b26>\u001b[0m in \u001b[0;36m<module>\u001b[1;34m\u001b[0m\n\u001b[0;32m      6\u001b[0m \u001b[0mtagsets\u001b[0m\u001b[1;33m[\u001b[0m\u001b[1;34m\"Kkma-기호\"\u001b[0m\u001b[1;33m]\u001b[0m \u001b[1;33m=\u001b[0m \u001b[0mlist\u001b[0m\u001b[1;33m(\u001b[0m\u001b[0mkkma\u001b[0m\u001b[1;33m.\u001b[0m\u001b[0mtagset\u001b[0m\u001b[1;33m.\u001b[0m\u001b[0mkeys\u001b[0m\u001b[1;33m(\u001b[0m\u001b[1;33m)\u001b[0m\u001b[1;33m)\u001b[0m \u001b[1;33m+\u001b[0m \u001b[0mlist\u001b[0m\u001b[1;33m(\u001b[0m\u001b[1;34m\"*\"\u001b[0m \u001b[1;33m*\u001b[0m \u001b[1;33m(\u001b[0m\u001b[0mN\u001b[0m \u001b[1;33m-\u001b[0m \u001b[0mlen\u001b[0m\u001b[1;33m(\u001b[0m\u001b[0mkkma\u001b[0m\u001b[1;33m.\u001b[0m\u001b[0mtagset\u001b[0m\u001b[1;33m)\u001b[0m\u001b[1;33m)\u001b[0m\u001b[1;33m)\u001b[0m\u001b[1;33m\u001b[0m\u001b[1;33m\u001b[0m\u001b[0m\n\u001b[0;32m      7\u001b[0m \u001b[0mtagsets\u001b[0m\u001b[1;33m[\u001b[0m\u001b[1;34m\"Kkma-품사\"\u001b[0m\u001b[1;33m]\u001b[0m \u001b[1;33m=\u001b[0m \u001b[0mlist\u001b[0m\u001b[1;33m(\u001b[0m\u001b[0mkkma\u001b[0m\u001b[1;33m.\u001b[0m\u001b[0mtagset\u001b[0m\u001b[1;33m.\u001b[0m\u001b[0mvalues\u001b[0m\u001b[1;33m(\u001b[0m\u001b[1;33m)\u001b[0m\u001b[1;33m)\u001b[0m \u001b[1;33m+\u001b[0m \u001b[0mlist\u001b[0m\u001b[1;33m(\u001b[0m\u001b[1;34m\"*\"\u001b[0m \u001b[1;33m*\u001b[0m \u001b[1;33m(\u001b[0m\u001b[0mN\u001b[0m \u001b[1;33m-\u001b[0m \u001b[0mlen\u001b[0m\u001b[1;33m(\u001b[0m\u001b[0mkkma\u001b[0m\u001b[1;33m.\u001b[0m\u001b[0mtagset\u001b[0m\u001b[1;33m)\u001b[0m\u001b[1;33m)\u001b[0m\u001b[1;33m)\u001b[0m\u001b[1;33m\u001b[0m\u001b[1;33m\u001b[0m\u001b[0m\n\u001b[1;32m----> 8\u001b[1;33m \u001b[0mtagsets\u001b[0m\u001b[1;33m[\u001b[0m\u001b[1;34m\"Komoran-기호\"\u001b[0m\u001b[1;33m]\u001b[0m \u001b[1;33m=\u001b[0m \u001b[0mlist\u001b[0m\u001b[1;33m(\u001b[0m\u001b[0mkomoran\u001b[0m\u001b[1;33m.\u001b[0m\u001b[0mtagset\u001b[0m\u001b[1;33m.\u001b[0m\u001b[0mkeys\u001b[0m\u001b[1;33m(\u001b[0m\u001b[1;33m)\u001b[0m\u001b[1;33m)\u001b[0m \u001b[1;33m+\u001b[0m \u001b[0mlist\u001b[0m\u001b[1;33m(\u001b[0m\u001b[1;34m\"*\"\u001b[0m \u001b[1;33m*\u001b[0m \u001b[1;33m(\u001b[0m\u001b[0mN\u001b[0m \u001b[1;33m-\u001b[0m \u001b[0mlen\u001b[0m\u001b[1;33m(\u001b[0m\u001b[0mkomoran\u001b[0m\u001b[1;33m.\u001b[0m\u001b[0mtagset\u001b[0m\u001b[1;33m)\u001b[0m\u001b[1;33m)\u001b[0m\u001b[1;33m)\u001b[0m\u001b[1;33m\u001b[0m\u001b[1;33m\u001b[0m\u001b[0m\n\u001b[0m\u001b[0;32m      9\u001b[0m \u001b[0mtagsets\u001b[0m\u001b[1;33m[\u001b[0m\u001b[1;34m\"Komoran-품사\"\u001b[0m\u001b[1;33m]\u001b[0m \u001b[1;33m=\u001b[0m \u001b[0mlist\u001b[0m\u001b[1;33m(\u001b[0m\u001b[0mkomoran\u001b[0m\u001b[1;33m.\u001b[0m\u001b[0mtagset\u001b[0m\u001b[1;33m.\u001b[0m\u001b[0mvalues\u001b[0m\u001b[1;33m(\u001b[0m\u001b[1;33m)\u001b[0m\u001b[1;33m)\u001b[0m \u001b[1;33m+\u001b[0m \u001b[0mlist\u001b[0m\u001b[1;33m(\u001b[0m\u001b[1;34m\"*\"\u001b[0m \u001b[1;33m*\u001b[0m \u001b[1;33m(\u001b[0m\u001b[0mN\u001b[0m \u001b[1;33m-\u001b[0m \u001b[0mlen\u001b[0m\u001b[1;33m(\u001b[0m\u001b[0mkomoran\u001b[0m\u001b[1;33m.\u001b[0m\u001b[0mtagset\u001b[0m\u001b[1;33m)\u001b[0m\u001b[1;33m)\u001b[0m\u001b[1;33m)\u001b[0m\u001b[1;33m\u001b[0m\u001b[1;33m\u001b[0m\u001b[0m\n\u001b[0;32m     10\u001b[0m \u001b[0mtagsets\u001b[0m\u001b[1;33m[\u001b[0m\u001b[1;34m\"OKT-기호\"\u001b[0m\u001b[1;33m]\u001b[0m \u001b[1;33m=\u001b[0m \u001b[0mlist\u001b[0m\u001b[1;33m(\u001b[0m\u001b[0mokt\u001b[0m\u001b[1;33m.\u001b[0m\u001b[0mtagset\u001b[0m\u001b[1;33m.\u001b[0m\u001b[0mkeys\u001b[0m\u001b[1;33m(\u001b[0m\u001b[1;33m)\u001b[0m\u001b[1;33m)\u001b[0m \u001b[1;33m+\u001b[0m \u001b[0mlist\u001b[0m\u001b[1;33m(\u001b[0m\u001b[1;34m\"*\"\u001b[0m \u001b[1;33m*\u001b[0m \u001b[1;33m(\u001b[0m\u001b[0mN\u001b[0m \u001b[1;33m-\u001b[0m \u001b[0mlen\u001b[0m\u001b[1;33m(\u001b[0m\u001b[0mokt\u001b[0m\u001b[1;33m.\u001b[0m\u001b[0mtagset\u001b[0m\u001b[1;33m)\u001b[0m\u001b[1;33m)\u001b[0m\u001b[1;33m)\u001b[0m\u001b[1;33m\u001b[0m\u001b[1;33m\u001b[0m\u001b[0m\n",
      "\u001b[1;31mNameError\u001b[0m: name 'komoran' is not defined"
     ]
    }
   ],
   "source": [
    "tagsets = pd.DataFrame()                            ## 빈 데이터프레임을 만든다. \n",
    "N = 67\n",
    "                                                   ##  한글 형태소 분석기에 있는 품사에 대한 정보를 데이터프레임에 넣는다. \n",
    "tagsets[\"Hannanum-기호\"] = list(hannanum.tagset.keys()) + list(\"*\" * (N - len(hannanum.tagset)))\n",
    "tagsets[\"Hannanum-품사\"] = list(hannanum.tagset.values()) + list(\"*\" * (N - len(hannanum.tagset)))\n",
    "tagsets[\"Kkma-기호\"] = list(kkma.tagset.keys()) + list(\"*\" * (N - len(kkma.tagset)))\n",
    "tagsets[\"Kkma-품사\"] = list(kkma.tagset.values()) + list(\"*\" * (N - len(kkma.tagset)))\n",
    "tagsets[\"Komoran-기호\"] = list(komoran.tagset.keys()) + list(\"*\" * (N - len(komoran.tagset)))\n",
    "tagsets[\"Komoran-품사\"] = list(komoran.tagset.values()) + list(\"*\" * (N - len(komoran.tagset)))\n",
    "tagsets[\"OKT-기호\"] = list(okt.tagset.keys()) + list(\"*\" * (N - len(okt.tagset)))\n",
    "tagsets[\"OKT-품사\"] = list(okt.tagset.values()) + list(\"*\" * (N - len(okt.tagset)))"
   ]
  },
  {
   "cell_type": "code",
   "execution_count": 20,
   "metadata": {},
   "outputs": [
    {
     "data": {
      "text/html": [
       "<div>\n",
       "<style scoped>\n",
       "    .dataframe tbody tr th:only-of-type {\n",
       "        vertical-align: middle;\n",
       "    }\n",
       "\n",
       "    .dataframe tbody tr th {\n",
       "        vertical-align: top;\n",
       "    }\n",
       "\n",
       "    .dataframe thead th {\n",
       "        text-align: right;\n",
       "    }\n",
       "</style>\n",
       "<table border=\"1\" class=\"dataframe\">\n",
       "  <thead>\n",
       "    <tr style=\"text-align: right;\">\n",
       "      <th></th>\n",
       "      <th>Hannanum-기호</th>\n",
       "      <th>Hannanum-품사</th>\n",
       "      <th>Kkma-기호</th>\n",
       "      <th>Kkma-품사</th>\n",
       "    </tr>\n",
       "  </thead>\n",
       "  <tbody>\n",
       "    <tr>\n",
       "      <th>0</th>\n",
       "      <td>E</td>\n",
       "      <td>어미</td>\n",
       "      <td>EC</td>\n",
       "      <td>연결 어미</td>\n",
       "    </tr>\n",
       "    <tr>\n",
       "      <th>1</th>\n",
       "      <td>EC</td>\n",
       "      <td>연결 어미</td>\n",
       "      <td>ECD</td>\n",
       "      <td>의존적 연결 어미</td>\n",
       "    </tr>\n",
       "    <tr>\n",
       "      <th>2</th>\n",
       "      <td>EF</td>\n",
       "      <td>종결 어미</td>\n",
       "      <td>ECE</td>\n",
       "      <td>대등 연결 어미</td>\n",
       "    </tr>\n",
       "    <tr>\n",
       "      <th>3</th>\n",
       "      <td>EP</td>\n",
       "      <td>선어말어미</td>\n",
       "      <td>ECS</td>\n",
       "      <td>보조적 연결 어미</td>\n",
       "    </tr>\n",
       "    <tr>\n",
       "      <th>4</th>\n",
       "      <td>ET</td>\n",
       "      <td>전성 어미</td>\n",
       "      <td>EF</td>\n",
       "      <td>종결 어미</td>\n",
       "    </tr>\n",
       "    <tr>\n",
       "      <th>...</th>\n",
       "      <td>...</td>\n",
       "      <td>...</td>\n",
       "      <td>...</td>\n",
       "      <td>...</td>\n",
       "    </tr>\n",
       "    <tr>\n",
       "      <th>62</th>\n",
       "      <td>*</td>\n",
       "      <td>*</td>\n",
       "      <td>XPV</td>\n",
       "      <td>용언 접두사</td>\n",
       "    </tr>\n",
       "    <tr>\n",
       "      <th>63</th>\n",
       "      <td>*</td>\n",
       "      <td>*</td>\n",
       "      <td>XR</td>\n",
       "      <td>어근</td>\n",
       "    </tr>\n",
       "    <tr>\n",
       "      <th>64</th>\n",
       "      <td>*</td>\n",
       "      <td>*</td>\n",
       "      <td>XSA</td>\n",
       "      <td>형용사 파생 접미사</td>\n",
       "    </tr>\n",
       "    <tr>\n",
       "      <th>65</th>\n",
       "      <td>*</td>\n",
       "      <td>*</td>\n",
       "      <td>XSN</td>\n",
       "      <td>명사파생 접미사</td>\n",
       "    </tr>\n",
       "    <tr>\n",
       "      <th>66</th>\n",
       "      <td>*</td>\n",
       "      <td>*</td>\n",
       "      <td>XSV</td>\n",
       "      <td>동사 파생 접미사</td>\n",
       "    </tr>\n",
       "  </tbody>\n",
       "</table>\n",
       "<p>67 rows × 4 columns</p>\n",
       "</div>"
      ],
      "text/plain": [
       "   Hannanum-기호 Hannanum-품사 Kkma-기호     Kkma-품사\n",
       "0            E          어미      EC       연결 어미\n",
       "1           EC       연결 어미     ECD   의존적 연결 어미\n",
       "2           EF       종결 어미     ECE    대등 연결 어미\n",
       "3           EP       선어말어미     ECS   보조적 연결 어미\n",
       "4           ET       전성 어미      EF       종결 어미\n",
       "..         ...         ...     ...         ...\n",
       "62           *           *     XPV      용언 접두사\n",
       "63           *           *      XR          어근\n",
       "64           *           *     XSA  형용사 파생 접미사\n",
       "65           *           *     XSN    명사파생 접미사\n",
       "66           *           *     XSV   동사 파생 접미사\n",
       "\n",
       "[67 rows x 4 columns]"
      ]
     },
     "metadata": {},
     "output_type": "display_data"
    }
   ],
   "source": [
    "display(tagsets.head(N))"
   ]
  },
  {
   "cell_type": "markdown",
   "metadata": {},
   "source": [
    "## 2. 워드 클라우드"
   ]
  },
  {
   "cell_type": "code",
   "execution_count": 21,
   "metadata": {},
   "outputs": [],
   "source": [
    "from matplotlib import font_manager, rc\n",
    "font_path = \"data/THEdog.ttf\"   #폰트파일의 위치\n",
    "font_name = font_manager.FontProperties(fname=font_path).get_name()\n",
    "rc('font', family=font_name)"
   ]
  },
  {
   "cell_type": "code",
   "execution_count": 22,
   "metadata": {},
   "outputs": [],
   "source": [
    "from wordcloud import WordCloud            ## 워드 클라우드 모듈을 사용한다 \n",
    "import matplotlib.pyplot as plt "
   ]
  },
  {
   "cell_type": "code",
   "execution_count": 23,
   "metadata": {},
   "outputs": [],
   "source": [
    "myfontpath = \"data/THEdog.ttf\" "
   ]
  },
  {
   "cell_type": "code",
   "execution_count": 24,
   "metadata": {},
   "outputs": [],
   "source": [
    "wc = WordCloud(                        ## 워드클라우드 객체를 만들때 한글로 출력되도록 객체를 만든다 \n",
    "    font_path = myfontpath,\n",
    "    width = 200,\n",
    "    height = 200\n",
    ")"
   ]
  },
  {
   "cell_type": "code",
   "execution_count": 25,
   "metadata": {},
   "outputs": [],
   "source": [
    "text = \"둘리 도우너 또치 마이콜 희동이 둘리 둘리 도우너 또치 토토로 둘리 올라프 토토로 올라프 올라프\""
   ]
  },
  {
   "cell_type": "code",
   "execution_count": 26,
   "metadata": {},
   "outputs": [
    {
     "data": {
      "text/plain": [
       "<wordcloud.wordcloud.WordCloud at 0x1eda7654040>"
      ]
     },
     "execution_count": 26,
     "metadata": {},
     "output_type": "execute_result"
    }
   ],
   "source": [
    "wc = wc.generate(text)   \n",
    "wc.to_file('output/ptest2.png')"
   ]
  },
  {
   "cell_type": "code",
   "execution_count": 27,
   "metadata": {},
   "outputs": [
    {
     "data": {
      "image/png": "[encoded data removed]",
      "text/plain": [
       "<Figure size 432x288 with 1 Axes>"
      ]
     },
     "metadata": {
      "needs_background": "light"
     },
     "output_type": "display_data"
    }
   ],
   "source": [
    "fig = plt.figure()\n",
    "plt.imshow(wc, interpolation='bilinear')               ## 워드 클라우드 이미지로 출력한다 \n",
    "plt.axis('off')\n",
    "plt.show()"
   ]
  },
  {
   "cell_type": "code",
   "execution_count": 28,
   "metadata": {},
   "outputs": [
    {
     "data": {
      "image/png": "[encoded data removed]",
      "text/plain": [
       "<Figure size 432x288 with 1 Axes>"
      ]
     },
     "metadata": {
      "needs_background": "light"
     },
     "output_type": "display_data"
    }
   ],
   "source": [
    "wc = WordCloud(\n",
    "    font_path = myfontpath,\n",
    "    background_color='white',                     ## 배경색을 지정한다 \n",
    "    width = 800,\n",
    "    height = 800\n",
    ")\n",
    "wc = wc.generate(text)\n",
    "fig = plt.figure()\n",
    "plt.imshow(wc, interpolation='bilinear')\n",
    "plt.axis('off') #이거 안하면 좌표도 같이 출력\n",
    "plt.show()"
   ]
  },
  {
   "cell_type": "code",
   "execution_count": 29,
   "metadata": {},
   "outputs": [
    {
     "data": {
      "image/png": "[encoded data removed]",
      "text/plain": [
       "<Figure size 432x288 with 1 Axes>"
      ]
     },
     "metadata": {
      "needs_background": "light"
     },
     "output_type": "display_data"
    }
   ],
   "source": [
    "keywords = {'파이썬':7, '넘파이':3, '판다스':5, '매트플롭립':2, '시본':2, '폴리엄':2}             ## 특정 단어의 빈도를 딕셔너리로 만든다 \n",
    "\n",
    "wc = wc.generate_from_frequencies(keywords)        ## 빈도별로 워드클라우드를 만든다 \n",
    "\n",
    "fig = plt.figure()\n",
    "plt.imshow(wc, interpolation='bilinear')\n",
    "plt.axis('off')\n",
    "plt.show()"
   ]
  },
  {
   "cell_type": "code",
   "execution_count": 31,
   "metadata": {},
   "outputs": [],
   "source": [
    "from PIL import Image                                ## 이미지 파일을 처리하는 모듈을 사용한다. \n",
    "import numpy as np"
   ]
  },
  {
   "cell_type": "code",
   "execution_count": 34,
   "metadata": {},
   "outputs": [],
   "source": [
    "r2d2_mask = np.array(Image.open('data/r2d2.JPG'))       ## 이미지를 읽어와서 다차원 배열로 변환한다 "
   ]
  },
  {
   "cell_type": "code",
   "execution_count": 35,
   "metadata": {},
   "outputs": [],
   "source": [
    "from wordcloud import STOPWORDS  "
   ]
  },
  {
   "cell_type": "code",
   "execution_count": null,
   "metadata": {},
   "outputs": [],
   "source": [
    "stopwords = set()                               ## 한글은 별도로 집합으로 불용어를 만든다 \n",
    "stopwords.add(\"은\")\n",
    "stopwords.add(\"입니다\")\n",
    "stopwords.add(\"것인가\")\n",
    "stopwords.add(\"처럼\")\n",
    "\n",
    "wc = WordCloud( stopwords=stopwords,              ## 워드 클라우드 객체를 만든다 \n",
    "                          font_path = myfontpath,\n",
    "                          background_color='white',\n",
    "                           width = 800,\n",
    "                           height = 800,\n",
    "                          mask=r2d2_mask)            ## 마스크 인자에 이미지를 전달한다 "
   ]
  },
  {
   "cell_type": "code",
   "execution_count": null,
   "metadata": {},
   "outputs": [],
   "source": [
    "texts = ['로봇 처럼 표시하는 것을 보기 위해 이것 은 예문 입니다 가을이라 겨울 바람 솔솔 불어오니 ',\n",
    "         '여러분 의 문장을 넣 으세요 ㅎㅎㅎ 스타워즈 영화에 나오는 다양한 로봇처럼 r2d2']"
   ]
  },
  {
   "cell_type": "code",
   "execution_count": null,
   "metadata": {},
   "outputs": [],
   "source": [
    "wc = wc.generate_from_text(texts[0]+texts[1])    ## 두 개의 문자을 연결해서 워드클라우드를 만든다 \n",
    "wc"
   ]
  },
  {
   "cell_type": "code",
   "execution_count": null,
   "metadata": {},
   "outputs": [],
   "source": [
    "wc.to_file('output/ptest3.png')"
   ]
  },
  {
   "cell_type": "code",
   "execution_count": null,
   "metadata": {},
   "outputs": [],
   "source": [
    "plt.figure(figsize=(8,8))\n",
    "plt.imshow(wc, interpolation=\"bilinear\")         ## 이미지를 출력하면 전달된 모양에 따라 표시한다 \n",
    "plt.axis(\"off\")\n",
    "plt.show()"
   ]
  },
  {
   "cell_type": "markdown",
   "metadata": {},
   "source": [
    "## 3. 한국어 기반의 자연어 처리 모듈 : nltk(Natural Language Toolkit)"
   ]
  },
  {
   "cell_type": "code",
   "execution_count": 41,
   "metadata": {},
   "outputs": [],
   "source": [
    "import nltk                     ## 한국어 자연어처리 모듈 "
   ]
  },
  {
   "cell_type": "code",
   "execution_count": 42,
   "metadata": {},
   "outputs": [],
   "source": [
    "from konlpy.corpus import kobill\n",
    "files_ko = kobill.fileids()"
   ]
  },
  {
   "cell_type": "code",
   "execution_count": 43,
   "metadata": {},
   "outputs": [
    {
     "data": {
      "text/plain": [
       "['1809890.txt',\n",
       " '1809891.txt',\n",
       " '1809892.txt',\n",
       " '1809893.txt',\n",
       " '1809894.txt',\n",
       " '1809895.txt',\n",
       " '1809896.txt',\n",
       " '1809897.txt',\n",
       " '1809898.txt',\n",
       " '1809899.txt']"
      ]
     },
     "execution_count": 43,
     "metadata": {},
     "output_type": "execute_result"
    }
   ],
   "source": [
    "files_ko"
   ]
  },
  {
   "cell_type": "code",
   "execution_count": 44,
   "metadata": {},
   "outputs": [],
   "source": [
    "doc_ko = kobill.open('1809898.txt').read()         ## 특정 텍스트 파일을 읽어온다 "
   ]
  },
  {
   "cell_type": "code",
   "execution_count": 45,
   "metadata": {},
   "outputs": [
    {
     "data": {
      "text/plain": [
       "\"국군부대의 소말리아 해역 파견연장 동의안\\n\\n의안\\n                                                                  제출연월일 :  2010.    11.    15.\\n9898\\n번호\\n                                                                        제  출  자 :  정         부\\n\\n제안이유\\n\\n      소말리아 아덴만 해역에 파견된 국군부대 ( 청해부대 )의 파견기간이 \\n2010년 12월 31일 종료될 예정이나,  다음 이유로 파견기간을 연장\\n하고자 함. \\n\\n      첫째,  소말리아 해적활동으로 우리 선박의 안전이 위협을 받고 있고,\\n\\n      둘째,  청해부대가  성공적으로 임무를 수행하여 우리 국익보호 및  국위\\n선양에 기여하고 있으며,   \\n\\n      셋째,  국내외 관계기관에서 파견연장을 요청하고 있음.\\n\\n주요내용\\n\\n    가. 유엔 안보리 결의 ( 1373/1838/1846/1851 )에 근거,  소말리아 아덴만 \\n해역에 파견된 국군부대의 파견기간을 2011년 1월 1일부터 2011년 \\n12월 31일까지 연장함.\\n\\n    나. 국군부대의 임무는 연합해군사의 해양안보작전에 참여하고,  우리 \\n선박의 안전한 활동을 지원하는 것임.\\n\\n    다. 부대 지휘권은 한국군이 보유하며,  우리 선박 호송 간 작전운용은\\n          한국군이 통제하고 연합해군사의 해양안보작전에 참여할 경우 현지 \\n사령관이  전술통제함. \\n\\n    라. 국군부대의 파견경비는 우리 정부의 부담으로 함. \\n\\n참고사항\\n\\n    가.  관련법령 :  헌법 제5조 제1항,  제60조 제2항\\n    나.  예산조치 :  국회 동의 후 2011년도 예산안에 대한 국회 심의 \\n과정에서 반영 추진\\n\\n    다.  합    의 :  기획재정부,  외교통상부와 합의되었음.\\n\\n- 1 -\\n\\n\\x0c국군부대의 소말리아 해역 파견연장 동의안\\n\\n헌법 제60조제2항의 규정에 따라 소말리아 아덴만 해역에 파견된 \\n\\n국군부대의 파견기간을 2011년 1월 1일부터 2011년 12월 31일까지 연장\\n\\n하는데 동의한다. \\n\\n- 3 -\\n\\n\\x0c1.  국군부대   파견 목적 및 경과\\n\\n    가.  파견 목적\\n\\n          유엔 안보리 결의 ( 1373 / 1838 / 1846 / 1851 )에 근거,  국제해상안전과 \\n테러대응을 위한 국제적 노력에 동참하고,  우리 선박의 안전한 \\n활동을 지원하기 위함임.\\n\\n    나.  파견 배경 및 경과\\n\\n          ○  ’01. 9. 28  유엔,  테러방지 및 지원 차단을 위한 협력국의 협력 \\n촉구 ( 유엔 안보리결의 1373호 )\\n\\n          ○  ’04년 소말리아 과도정부 출범 이후 무정부 상태 지속,  ‘08년\\n부터 소말리아 해역에서 해적활동 급증\\n\\n                * 선박피랍 : ´05년 15척, ´06년 5척, ´07년 12척, ´08년 43척, ´09년 49척\\n\\n          ○  ’08. 10. 7  유엔이 소말리아 해적 퇴치를 위해 회원국에 군함 \\n및 항공기 참여 요청 ( 유엔 안보리결의 1838호 )\\n\\n          ○  ’08. 10. 27～31  정부합동실사단 파견 ( 바레인,  지부티 )\\n\\n          ○  ’08. 12. 2  유엔,  외국정부 및 지역기구의 소말리아 영해 진입 1년 \\n연장 ( 유엔안보리결의 1846호 )\\n\\n          ○  ’08. 12. 16 유엔,  소말리아 해적퇴치를 위해 소말리아 내에서 \\n필요한 모든 적절한 조치를 취할 수 있도록 승인\\n                    ( 유엔 안보리결의 1851호 )\\n\\n          ○  ’09.  3. 2    파견 동의안 국회 가결\\n\\n          ○  ’09. 3. 13    부대 파견\\n\\n          ○  ’09. 12. 29  파견 연장동의안 국회 가결\\n\\n          ○ ‘10. 11. 9  국무회의,  ｢국군부대의 소말리아 해역 파견 연장 \\n동의안｣ 심의･의결\\n\\n- 5 -\\n\\n\\x0c- 6 -\\n\\n2.  기본 계획\\n\\n    가.  파견부대 규모\\n\\n          ○ 전력 :  구축함 (4,500톤급)  1척 ( LYNX헬기 1대,  고속단정 3척 탑재 ) \\n\\n          ○ 인원 :  310명 이내\\n\\n    나.  파견 지역 :  소말리아 아덴만 해역 일대\\n\\n    다.  임 무 \\n\\n          ○  국제 해상 안전과 테러 대응을 위한 국제적 노력에 동참하기 위해 \\n연합해군사의 해양안보작전에 참여\\n\\n          ○  우리 선박의 안전한 활동 지원\\n\\n    라.  파견연장 기간  :  2011년 1월 1일부터 2011년 12월 31일까지\\n\\n    마.  함정 교대 :  4.5개월 주기로 현지에서 함정 임무교대\\n\\n    바.  파견부대 지휘 \\n\\n          ○  부대 지휘권은 한국군이 보유하며,  우리 선박 호송 간 작전 운용은 \\n한국군이 통제하고,  연합 해군사 해양안보작전에 참여할 경우에는 \\n현지 사령관이 전술통제함. \\n\\n3.  예산 소요\\n\\n    가.  '11년도 소요예산 :  약 347억원\\n\\n    나.  예산조치 :  국회 동의 후 2011년도 예산안에 대한 국회 심의 \\n과정에서 반영 추진\\n\\n\\x0c국군부대의 소말리아 해역 파견연장 동의안\\n비용추계서\\n\\n1.  비용추계 요약\\n\\n    가.  재정수반요인  :  부대의 파견경비는 우리 정부의 부담으로 함.\\n\\n    나.  비용추계의 전제  :  국군부대의 소말리아 해역 파견연장 동의안\\n\\n          ○  파견 연장 기간 :  2011년 1월 1일 부터 2011년 12월 31일까지\\n\\n          ○  파견부대 규모\\n\\n                  • 전력 :  구축함 (4,500톤급)  1척 ( LYNX헬기 1대,  고속단정 3척 탑재 ) \\n\\n                  • 인원 :  310명 이내\\n\\n    다.  비용추계의 결과\\n\\n단위 :  백만원\\n\\n                                          연  도 \\n    구  분\\n\\n2011\\n\\n2012  이후\\n\\n합 계\\n\\n  ◦ 인 건 비\\n\\n  ◦ 운 영 비\\n\\n소 계 (a)\\n\\n-\\n\\n소 계 (b)\\n\\n지\\n\\n출\\n\\n수\\n입\\n\\n \\n\\n12,712\\n\\n22,000\\n\\n  34,712\\n\\n-\\n\\n-\\n\\n□ 총 비용 (a-b)\\n\\n34,712\\n\\n-\\n\\n-\\n\\n-\\n\\n-\\n\\n-\\n\\n-\\n\\n12,712\\n\\n22,000\\n\\n  34,712\\n\\n-\\n\\n-\\n\\n34,712\\n\\n    라.  부대의견 :  없음.\\n\\n    마.  작성자 : \\n\\n작성자 이름\\n\\n국방부 국제평화협력과장 대령 유재익\\n\\n연락처\\n\\n02) 748 - 6350\\n\\n- 7 -\\n\\n\\x0c- 8 -\\n\\n2.  비용추계의 상세내역\\n\\n    가.  지 출\\n\\n          ○  부대 운영 /  유지 비용  :  34,712  백만원\\n\\n단위 :  백만원\\n\\n구       분\\n\\n계\\n\\n  ◦ 해외파견근무수당\\n\\n  ◦ 증 식 /  피 복 비\\n\\n  ◦ 유 류 비\\n\\n  ◦ 장비 / 물자 획득\\n\\n  ◦ 기타 부대 운영비\\n\\n       \\n\\n               \\n\\n    나.  수 입 :  -\\n\\n계\\n\\n34,712\\n\\n12,712\\n\\n2,172\\n\\n14,407\\n\\n1,697\\n\\n3,724\\n\\n       \\n\\n\\x0c국군부대의 소말리아 해역 파견연장 동의안\\n재원조달계획서\\n\\n1.  부문별 재원분담계획\\n                                                                                                                  단위 :  백만원\\n\\n                              연  도\\n    구  분\\n\\n  □ 중앙정부\\n\\n      ◦ 일반회계\\n\\n      ◦ 예 비 비\\n\\n  □ 지방자치단계\\n\\n  □ 그 밖의 공공단체\\n\\n  □ 민    간\\n\\n \\n\\n  □ 합    계\\n\\n2011\\n\\n34,712\\n\\n34,712\\n\\n-\\n\\n-\\n\\n-\\n\\n-\\n\\n  34,712\\n\\n2.  재원조달의 구체적인 방안\\n\\n2012이후\\n\\n합 계\\n\\n-\\n\\n-\\n\\n-\\n\\n-\\n\\n-\\n\\n-\\n\\n-\\n\\n34,712\\n\\n34,712\\n\\n-\\n\\n-\\n\\n-\\n\\n-\\n\\n  34,712\\n\\n      국군부대의 소말리아 해역 파견연장 동의안에 따른 소요예산은 \\n\\n2011년도 정부예산에서 347억원을 지출할 예정임.\\n\\n3.  부대의견 :  없음.\\n\\n4.  협의사항 :  국회동의 결과에 따라 기획재정부와 협의함.\\n\\n5.  작성자\\n\\n작성자 이름\\n\\n국방부 국제평화협력과장 대령 유재익\\n\\n연락처\\n\\n02) 748 - 6350\\n\\n- 9 -\\n\\n\\x0c- 10 -\\n\\n〈의안 소관 부서명〉\\n\\n국방부  국방정책 실  국제평화협력 과\\n\\n연 락 처\\n\\n(02)  748  -   6350\\n\\n\\x0c\""
      ]
     },
     "execution_count": 45,
     "metadata": {},
     "output_type": "execute_result"
    }
   ],
   "source": [
    "doc_ko"
   ]
  },
  {
   "cell_type": "code",
   "execution_count": 46,
   "metadata": {},
   "outputs": [
    {
     "name": "stdout",
     "output_type": "stream",
     "text": [
      "['국군', '부대', '소말리아', '해역', '파견', '연장', '의안', '의안', '제출', '연월일']\n"
     ]
    }
   ],
   "source": [
    "from konlpy.tag import Okt      \n",
    "t = Okt()\n",
    "tokens_ko = t.nouns(doc_ko)                ## 텍스트에서 명사를 추출한다. \n",
    "print(tokens_ko[:10])"
   ]
  },
  {
   "cell_type": "code",
   "execution_count": 47,
   "metadata": {},
   "outputs": [],
   "source": [
    "nouns_text = nltk.Text(tokens_ko, name='국군부대의 소말리아 해역 파견연장 동의안')       ## 명사로 추출한 것을 텍스트 객체로 만든다 "
   ]
  },
  {
   "cell_type": "code",
   "execution_count": 48,
   "metadata": {},
   "outputs": [
    {
     "data": {
      "text/plain": [
       "<Text: 국군부대의 소말리아 해역 파견연장 동의안>"
      ]
     },
     "execution_count": 48,
     "metadata": {},
     "output_type": "execute_result"
    }
   ],
   "source": [
    "nouns_text"
   ]
  },
  {
   "cell_type": "code",
   "execution_count": null,
   "metadata": {},
   "outputs": [],
   "source": [
    "type(nouns_text)"
   ]
  },
  {
   "cell_type": "code",
   "execution_count": null,
   "metadata": {},
   "outputs": [],
   "source": [
    "len(nouns_text.tokens)                         ##  명사로 분리된 개수를 확인한다 "
   ]
  },
  {
   "cell_type": "code",
   "execution_count": 49,
   "metadata": {},
   "outputs": [
    {
     "data": {
      "text/plain": [
       "249"
      ]
     },
     "execution_count": 49,
     "metadata": {},
     "output_type": "execute_result"
    }
   ],
   "source": [
    "len(set(nouns_text.tokens))                   ## 유일한 단어의 개수를 확인한다 "
   ]
  },
  {
   "cell_type": "code",
   "execution_count": null,
   "metadata": {},
   "outputs": [],
   "source": [
    "nouns_text.tokens[:10]"
   ]
  },
  {
   "cell_type": "code",
   "execution_count": null,
   "metadata": {},
   "outputs": [],
   "source": [
    "nouns_text.vocab()                    ## 동일한 단어의 발생 빈도를 확인한다. "
   ]
  },
  {
   "cell_type": "code",
   "execution_count": null,
   "metadata": {},
   "outputs": [],
   "source": [
    "import matplotlib.pyplot as plt"
   ]
  },
  {
   "cell_type": "code",
   "execution_count": null,
   "metadata": {},
   "outputs": [],
   "source": [
    "from matplotlib import font_manager, rc\n",
    "font_path = \"data/THEdog.ttf\"   #폰트파일의 위치\n",
    "font_name = font_manager.FontProperties(fname=font_path).get_name()\n",
    "rc('font', family=font_name)"
   ]
  },
  {
   "cell_type": "code",
   "execution_count": null,
   "metadata": {},
   "outputs": [],
   "source": [
    "plt.figure(figsize=(12,6))\n",
    "nouns_text.plot(50)                         ## 단어별로 발생빈도에 맞도록 그래프를 그린다. "
   ]
  },
  {
   "cell_type": "code",
   "execution_count": null,
   "metadata": {},
   "outputs": [],
   "source": [
    "nouns_text.count('파견')                  ## 특정 단어의 발생빈도를 확인한다. "
   ]
  },
  {
   "cell_type": "code",
   "execution_count": null,
   "metadata": {},
   "outputs": [],
   "source": [
    "nouns_text.count('소말리아')"
   ]
  },
  {
   "cell_type": "code",
   "execution_count": null,
   "metadata": {},
   "outputs": [],
   "source": [
    "nouns_text.concordance('소말리아')             ## 특정 단어가 있는 곳 알려줌"
   ]
  },
  {
   "cell_type": "code",
   "execution_count": 50,
   "metadata": {},
   "outputs": [],
   "source": [
    "data = nouns_text.vocab().most_common(150)                 ## 가장 많이 발생한 단어를 선택한다. "
   ]
  },
  {
   "cell_type": "code",
   "execution_count": null,
   "metadata": {},
   "outputs": [],
   "source": [
    "print(data)"
   ]
  },
  {
   "cell_type": "code",
   "execution_count": null,
   "metadata": {},
   "outputs": [],
   "source": [
    "wc = WordCloud(font_path=myfontpath,                                    ## .한글에 대한 위치를 표시한다. \n",
    "                      relative_scaling = 0.2,\n",
    "                      background_color='white',\n",
    "                      ).generate_from_frequencies(dict(data))             ## .단어별 빈도수를 딕셔너리로 변환해서 전달한다 \n",
    "plt.figure(figsize=(10,6))\n",
    "plt.imshow(wc)                                                      ## .이미지를 출력한다 \n",
    "plt.axis(\"off\")                                                            ## 그래프에 대한 축을 표시하지 않는다 \n",
    "plt.show()"
   ]
  },
  {
   "cell_type": "code",
   "execution_count": null,
   "metadata": {},
   "outputs": [],
   "source": [
    "wc = WordCloud(font_path=myfontpath,                                    ## .한글에 대한 위치를 표시한다. \n",
    "                      relative_scaling = 0.2,\n",
    "                      background_color='white',\n",
    "                      colormap = 'coolwarm',\n",
    "                      mask=r2d2_mask\n",
    "                      ).generate_from_frequencies(dict(data))             ## .단어별 빈도수를 딕셔너리로 변환해서 전달한다 \n",
    "plt.figure(figsize=(10,6))\n",
    "plt.imshow(wc)                                                      ## .이미지를 출력한다 \n",
    "plt.axis(\"off\")                                                            ## 그래프에 대한 축을 표시하지 않는다 \n",
    "plt.show()"
   ]
  },
  {
   "cell_type": "code",
   "execution_count": 51,
   "metadata": {},
   "outputs": [
    {
     "data": {
      "image/png": "[encoded data removed]",
      "text/plain": [
       "<Figure size 720x432 with 1 Axes>"
      ]
     },
     "metadata": {
      "needs_background": "light"
     },
     "output_type": "display_data"
    }
   ],
   "source": [
    "#clova 이미지\n",
    "\n",
    "wc = WordCloud(font_path=myfontpath,                                    ## .한글에 대한 위치를 표시한다. \n",
    "                      relative_scaling = 0.2,\n",
    "                      background_color='white',\n",
    "                      colormap = 'plasma',\n",
    "                      mask=np.array(Image.open('images/clover.jpg'))\n",
    "                      ).generate_from_frequencies(dict(data))             ## .단어별 빈도수를 딕셔너리로 변환해서 전달한다 \n",
    "plt.figure(figsize=(10,6))\n",
    "plt.imshow(wc)                                                      ## .이미지를 출력한다 \n",
    "plt.axis(\"off\")                                                            ## 그래프에 대한 축을 표시하지 않는다 \n",
    "plt.show()"
   ]
  },
  {
   "cell_type": "code",
   "execution_count": null,
   "metadata": {},
   "outputs": [],
   "source": [
    "?WordCloud  #함수앞에 ?붙여주면 document 볼 수 있다."
   ]
  },
  {
   "cell_type": "markdown",
   "metadata": {},
   "source": [
    "## 4. 텍스트 전처리"
   ]
  },
  {
   "cell_type": "markdown",
   "metadata": {},
   "source": [
    "### **한국어 전처리 패키지 : PyKoSpacing & Py-Hanspell**\n",
    "#### 전희원님이 개발한 PyKoSpacing은 한국어 띄어쓰기 패키지로 띄어쓰기가 되어있지 않은 문장을 띄어쓰기를 한 문장으로 변환해주는 패키지이다. PyKoSpacing은 대용량 코퍼스를 학습하여 만들어진 띄어쓰기 딥 러닝 모델로 준수한 성능을 가지고 있다.\n",
    "\n",
    "##### pip install git+https://github.com/haven-jeon/PyKoSpacing.git\n",
    "##### pip install git+https://github.com/ssut/py-hanspell.git"
   ]
  },
  {
   "cell_type": "code",
   "execution_count": 53,
   "metadata": {},
   "outputs": [],
   "source": [
    "sent = '김철수는 극중 두 인격의 사나이 이광수 역을 맡았다. 철수는 한국 유일의 태권도 전승자를 가리는 결전의 날을 앞두고 10년간 함께 훈련한 사형인 유연재(김광수 분)를 찾으러 속세로 내려온 인물이다.'"
   ]
  },
  {
   "cell_type": "code",
   "execution_count": 54,
   "metadata": {},
   "outputs": [
    {
     "name": "stdout",
     "output_type": "stream",
     "text": [
      "김철수는극중두인격의사나이이광수역을맡았다.철수는한국유일의태권도전승자를가리는결전의날을앞두고10년간함께훈련한사형인유연재(김광수분)를찾으러속세로내려온인물이다.\n"
     ]
    }
   ],
   "source": [
    "new_sent = sent.replace(\" \", '') # 띄어쓰기가 없는 문장 임의로 만들기\n",
    "print(new_sent)"
   ]
  },
  {
   "cell_type": "code",
   "execution_count": 55,
   "metadata": {},
   "outputs": [
    {
     "name": "stdout",
     "output_type": "stream",
     "text": [
      "김철수는 극중 두 인격의 사나이 이광수 역을 맡았다. 철수는 한국 유일의 태권도 전승자를 가리는 결전의 날을 앞두고 10년간 함께 훈련한 사형인 유연재(김광수 분)를 찾으러 속세로 내려온 인물이다.\n",
      "김철수는 극중 두 인격의 사나이 이광수 역을 맡았다. 철수는 한국 유일의 태권도 전승자를 가리는 결전의 날을 앞두고 10년간 함께 훈련한 사형인 유연재(김광수 분)를 찾으러 속세로 내려온 인물이다.\n"
     ]
    }
   ],
   "source": [
    "from pykospacing import spacing\n",
    "\n",
    "kospacing_sent = spacing(new_sent)\n",
    "print(sent)\n",
    "print(kospacing_sent)"
   ]
  },
  {
   "cell_type": "code",
   "execution_count": 56,
   "metadata": {},
   "outputs": [
    {
     "name": "stdout",
     "output_type": "stream",
     "text": [
      "맞춤법 틀리면 왜 안돼? 쓰고 싶은 대로 쓰면 되지\n"
     ]
    }
   ],
   "source": [
    "from hanspell import spell_checker\n",
    "\n",
    "sent = \"맞춤법 틀리면 외 않되? 쓰고싶은대로쓰면돼지 \"\n",
    "spelled_sent = spell_checker.check(sent)\n",
    "\n",
    "hanspell_sent = spelled_sent.checked\n",
    "print(hanspell_sent)"
   ]
  },
  {
   "cell_type": "code",
   "execution_count": 57,
   "metadata": {},
   "outputs": [
    {
     "name": "stdout",
     "output_type": "stream",
     "text": [
      "김철수는 극 중 두 인격의 사나이 이광수 역을 맡았다. 철수는 한국 유일의 태권도 전승자를 가리는 결전의 날을 앞두고 10년간 함께 훈련한 사형인 유연제(김광수 분)를 찾으러 속세로 내려온 인물이다.\n",
      "김철수는 극중 두 인격의 사나이 이광수 역을 맡았다. 철수는 한국 유일의 태권도 전승자를 가리는 결전의 날을 앞두고 10년간 함께 훈련한 사형인 유연재(김광수 분)를 찾으러 속세로 내려온 인물이다.\n"
     ]
    }
   ],
   "source": [
    "spelled_sent = spell_checker.check(new_sent)\n",
    "\n",
    "hanspell_sent = spelled_sent.checked\n",
    "print(hanspell_sent)\n",
    "print(kospacing_sent) "
   ]
  },
  {
   "cell_type": "markdown",
   "metadata": {},
   "source": [
    "## 5. 카운트 기반의 단어 표현"
   ]
  },
  {
   "cell_type": "markdown",
   "metadata": {},
   "source": [
    "### 토큰화 : 주어진 코퍼스(corpus)에서 토큰(token)이라 불리는 단위로 나누는 작업을 토큰화(tokenization)라고 한다."
   ]
  },
  {
   "cell_type": "markdown",
   "metadata": {},
   "source": [
    "#### 방법(1) - nltk 패키지의 word_tokenize() 사용"
   ]
  },
  {
   "cell_type": "code",
   "execution_count": 58,
   "metadata": {},
   "outputs": [
    {
     "name": "stderr",
     "output_type": "stream",
     "text": [
      "[nltk_data] Downloading package punkt to\n",
      "[nltk_data]     C:\\Users\\jihyun\\AppData\\Roaming\\nltk_data...\n",
      "[nltk_data]   Unzipping tokenizers\\punkt.zip.\n"
     ]
    },
    {
     "data": {
      "text/plain": [
       "True"
      ]
     },
     "execution_count": 58,
     "metadata": {},
     "output_type": "execute_result"
    }
   ],
   "source": [
    "import nltk\n",
    "nltk.download('punkt')"
   ]
  },
  {
   "cell_type": "code",
   "execution_count": 60,
   "metadata": {},
   "outputs": [
    {
     "name": "stdout",
     "output_type": "stream",
     "text": [
      "['고기를', '아무렇게나', '구우려고', '하면', '안', '돼', '.', '고기라고', '다', '같은', '게', '아니거든', '.', '예컨대', '삼겹살을', '구울', '때는', '중요한', '게', '있지', '.']\n"
     ]
    }
   ],
   "source": [
    "from nltk.tokenize import word_tokenize \n",
    "\n",
    "corpus = \"고기를 아무렇게나 구우려고 하면 안 돼. 고기라고 다 같은 게 아니거든. 예컨대 삼겹살을 구울 때는 중요한 게 있지.\"\n",
    "word_tokens1 = word_tokenize(corpus)\n",
    "print(word_tokens1) "
   ]
  },
  {
   "cell_type": "markdown",
   "metadata": {},
   "source": [
    "#### 방법(2) - Okt 객체의 morphs() 사용"
   ]
  },
  {
   "cell_type": "code",
   "execution_count": 61,
   "metadata": {},
   "outputs": [
    {
     "ename": "NameError",
     "evalue": "name 'word_token2' is not defined",
     "output_type": "error",
     "traceback": [
      "\u001b[1;31m---------------------------------------------------------------------------\u001b[0m",
      "\u001b[1;31mNameError\u001b[0m                                 Traceback (most recent call last)",
      "\u001b[1;32m<ipython-input-61-6e555fdb1de2>\u001b[0m in \u001b[0;36m<module>\u001b[1;34m\u001b[0m\n\u001b[0;32m      3\u001b[0m \u001b[0mcorpus\u001b[0m \u001b[1;33m=\u001b[0m \u001b[1;34m\"고기를 아무렇게나 구우려고 하면 안 돼. 고기라고 다 같은 게 아니거든. 예컨대 삼겹살을 구울 때는 중요한 게 있지.\"\u001b[0m\u001b[1;33m\u001b[0m\u001b[1;33m\u001b[0m\u001b[0m\n\u001b[0;32m      4\u001b[0m \u001b[0mword_tokens2\u001b[0m \u001b[1;33m=\u001b[0m \u001b[0mt\u001b[0m\u001b[1;33m.\u001b[0m\u001b[0mmorphs\u001b[0m\u001b[1;33m(\u001b[0m\u001b[0mcorpus\u001b[0m\u001b[1;33m)\u001b[0m\u001b[1;33m\u001b[0m\u001b[1;33m\u001b[0m\u001b[0m\n\u001b[1;32m----> 5\u001b[1;33m \u001b[0mprint\u001b[0m\u001b[1;33m(\u001b[0m\u001b[0mword_token2\u001b[0m\u001b[1;33m)\u001b[0m\u001b[1;33m\u001b[0m\u001b[1;33m\u001b[0m\u001b[0m\n\u001b[0m",
      "\u001b[1;31mNameError\u001b[0m: name 'word_token2' is not defined"
     ]
    }
   ],
   "source": [
    "from konlpy.tag import Okt\n",
    "t = Okt()  \n",
    "corpus = \"고기를 아무렇게나 구우려고 하면 안 돼. 고기라고 다 같은 게 아니거든. 예컨대 삼겹살을 구울 때는 중요한 게 있지.\"  \n",
    "word_tokens2 = t.morphs(corpus)  \n",
    "print(word_token2)"
   ]
  },
  {
   "cell_type": "code",
   "execution_count": 62,
   "metadata": {},
   "outputs": [
    {
     "name": "stdout",
     "output_type": "stream",
     "text": [
      "['고기를', '구우려고', '안', '돼', '.', '고기라고', '다', '같은', '.', '삼겹살을', '구울', '때는', '중요한', '있지', '.']\n"
     ]
    }
   ],
   "source": [
    "stop_words = \"아무거나 아무렇게나 어찌하든지 같다 비슷하다 예컨대 이럴정도로 하면 아니거든 게 때\"\n",
    "stop_words = stop_words.split(' ')\n",
    "\n",
    "result = [] \n",
    "for w in word_tokens1: \n",
    "    if w not in stop_words: \n",
    "        result.append(w) \n",
    "\n",
    "print(result)"
   ]
  },
  {
   "cell_type": "code",
   "execution_count": null,
   "metadata": {},
   "outputs": [],
   "source": [
    "stop_words = \"아무거나 아무렇게나 어찌하든지 같다 비슷하다 예컨대 이럴정도로 하면 아니거든 게 때\"\n",
    "stop_words = stop_words.split(' ')\n",
    "\n",
    "result = [] \n",
    "for w in word_tokens2: \n",
    "    if w not in stop_words: \n",
    "        result.append(w) \n",
    "\n",
    "print(result)"
   ]
  },
  {
   "cell_type": "markdown",
   "metadata": {},
   "source": [
    "#### 방법(3) - Okt 객체의 nouns() 사용"
   ]
  },
  {
   "cell_type": "code",
   "execution_count": 63,
   "metadata": {},
   "outputs": [
    {
     "name": "stdout",
     "output_type": "stream",
     "text": [
      "['고기', '우려', '안', '고기', '게', '삼겹살', '구울', '때', '게']\n"
     ]
    }
   ],
   "source": [
    "from konlpy.tag import Okt\n",
    "t = Okt()  \n",
    "corpus = \"고기를 아무렇게나 구우려고 하면 안 돼. 고기라고 다 같은 게 아니거든. 예컨대 삼겹살을 구울 때는 중요한 게 있지.\"  \n",
    "word_tokens3 = t.nouns(corpus)  \n",
    "print(word_tokens3)"
   ]
  },
  {
   "cell_type": "code",
   "execution_count": null,
   "metadata": {},
   "outputs": [],
   "source": [
    "stop_words = \"아무거나 아무렇게나 어찌하든지 같다 비슷하다 예컨대 이럴정도로 하면 아니거든 게 때\"\n",
    "stop_words = stop_words.split(' ')\n",
    "\n",
    "result = [] \n",
    "for w in word_tokens3: \n",
    "    if w not in stop_words: \n",
    "        result.append(w) \n",
    "\n",
    "print(result)"
   ]
  },
  {
   "cell_type": "code",
   "execution_count": 64,
   "metadata": {},
   "outputs": [
    {
     "name": "stdout",
     "output_type": "stream",
     "text": [
      "['정부', '가', '발표', '하는', '물가상승률', '과', '소비자', '가', '느끼는', '물가상승률', '은', '다르다']\n"
     ]
    },
    {
     "data": {
      "text/plain": [
       "FreqDist({'가': 2, '물가상승률': 2, '정부': 1, '발표': 1, '하는': 1, '과': 1, '소비자': 1, '느끼는': 1, '은': 1, '다르다': 1})"
      ]
     },
     "execution_count": 64,
     "metadata": {},
     "output_type": "execute_result"
    }
   ],
   "source": [
    "from konlpy.tag import Okt\n",
    "t = Okt()  \n",
    "corpus = \"정부가 발표하는 물가상승률과 소비자가 느끼는 물가상승률은 다르다\"  \n",
    "word_tokens3 = t.morphs(corpus)  \n",
    "print(word_tokens3)\n",
    "nouns_text = nltk.Text(word_tokens3)\n",
    "nouns_text.vocab()   "
   ]
  },
  {
   "cell_type": "markdown",
   "metadata": {},
   "source": [
    "### 한국어 불용어 참조 사이트 : https://www.ranks.nl/stopwords/korean\n",
    "----"
   ]
  },
  {
   "cell_type": "markdown",
   "metadata": {},
   "source": [
    "## 카운트 기반의 단어 표현\n",
    "\n",
    "### Bag of Words란 단어들의 순서는 고려하지 않고, 단어들의 출현 빈도에만 집중하는 텍스트 데이터의 수치화 표현 방법\n",
    "### DTM(또는 TDM)은 BoW 의 확장으로서 TF 방법과 TF_IDF 방식으로 생성 가능\n",
    "### TF-IDF 는 빈도수 기반 단어 표현에 단어의 중요도에 따른 가중치를 주는 방법 "
   ]
  },
  {
   "cell_type": "markdown",
   "metadata": {},
   "source": [
    "### 사이킷 런에서는 단어의 빈도를 Count하여 Vector로 만드는 CountVectorizer 클래스를 지원"
   ]
  },
  {
   "cell_type": "code",
   "execution_count": 65,
   "metadata": {},
   "outputs": [
    {
     "name": "stdout",
     "output_type": "stream",
     "text": [
      "[[1 1 1 1 1 1 1]]\n",
      "(1, 7)\n",
      "{'정부가': 6, '발표하는': 4, '물가상승률과': 2, '소비자가': 5, '느끼는': 0, '물가상승률은': 3, '다르다': 1}\n"
     ]
    }
   ],
   "source": [
    "from sklearn.feature_extraction.text import CountVectorizer\n",
    "corpus = [\"정부가 발표하는 물가상승률과 소비자가 느끼는 물가상승률은 다르다\"]\n",
    "vector = CountVectorizer()\n",
    "r = vector.fit_transform(corpus).toarray()\n",
    "print(r) # 코퍼스로부터 각 단어의 빈도 수를 기록한다.\n",
    "print(r.shape)\n",
    "print(vector.vocabulary_)"
   ]
  },
  {
   "cell_type": "code",
   "execution_count": null,
   "metadata": {},
   "outputs": [],
   "source": [
    "from sklearn.feature_extraction.text import CountVectorizer\n",
    "corpus = [\"정부가 발표하는 물가상승률과 소비자가 느끼는 물가상승률은 다르다\"]\n",
    "vector = CountVectorizer(stop_words=[\"정부가\", \"소비자가\"])\n",
    "r = vector.fit_transform(corpus).toarray()\n",
    "print(r) # 코퍼스로부터 각 단어의 빈도 수를 기록한다.\n",
    "print(r.shape)\n",
    "print(vector.vocabulary_)"
   ]
  },
  {
   "cell_type": "code",
   "execution_count": 66,
   "metadata": {},
   "outputs": [],
   "source": [
    "import pandas as pd # 데이터프레임 사용을 위해"
   ]
  },
  {
   "cell_type": "code",
   "execution_count": 68,
   "metadata": {},
   "outputs": [],
   "source": [
    "corpus = [\n",
    "  '먹고 싶은 사과',\n",
    "  '먹고 싶은 바나나',\n",
    "  '길고 노란 바나나 바나나',\n",
    "  '저는 과일이 좋아요'\n",
    "] "
   ]
  },
  {
   "cell_type": "code",
   "execution_count": null,
   "metadata": {},
   "outputs": [],
   "source": [
    "vector = CountVectorizer()\n",
    "dtm = vector.fit_transform(corpus).toarray()\n",
    "print(dtm) \n",
    "print(vector.vocabulary_) # 각 단어들의 인덱스가 어떻게 부여되었는지를 보여준다."
   ]
  },
  {
   "cell_type": "code",
   "execution_count": null,
   "metadata": {},
   "outputs": [],
   "source": [
    "tf = pd.DataFrame(dtm, columns = vector.get_feature_names())\n",
    "display(tf)"
   ]
  },
  {
   "cell_type": "code",
   "execution_count": null,
   "metadata": {},
   "outputs": [],
   "source": [
    "from sklearn.feature_extraction.text import TfidfVectorizer\n",
    "vector = TfidfVectorizer()\n",
    "dtm = vector.fit_transform(corpus).toarray()\n",
    "print(dtm) \n",
    "print(vector.vocabulary_) # 각 단어들의 인덱스가 어떻게 부여되었는지를 보여준다."
   ]
  },
  {
   "cell_type": "code",
   "execution_count": null,
   "metadata": {},
   "outputs": [],
   "source": [
    "tfidf = pd.DataFrame(dtm, columns = vector.get_feature_names())\n",
    "display(tfidf)"
   ]
  },
  {
   "cell_type": "code",
   "execution_count": 69,
   "metadata": {},
   "outputs": [
    {
     "name": "stdout",
     "output_type": "stream",
     "text": [
      "[[1 0 1 0 0 0 1 1 0 0 1 0 0]\n",
      " [0 1 0 0 1 0 0 1 0 0 0 0 0]\n",
      " [0 0 0 1 0 1 0 1 0 0 0 0 0]\n",
      " [1 0 0 0 0 0 0 0 1 0 1 1 0]\n",
      " [0 0 0 0 0 0 0 0 1 1 0 0 1]\n",
      " [1 0 0 0 0 0 0 1 0 0 1 0 0]]\n"
     ]
    },
    {
     "data": {
      "text/html": [
       "<div>\n",
       "<style scoped>\n",
       "    .dataframe tbody tr th:only-of-type {\n",
       "        vertical-align: middle;\n",
       "    }\n",
       "\n",
       "    .dataframe tbody tr th {\n",
       "        vertical-align: top;\n",
       "    }\n",
       "\n",
       "    .dataframe thead th {\n",
       "        text-align: right;\n",
       "    }\n",
       "</style>\n",
       "<table border=\"1\" class=\"dataframe\">\n",
       "  <thead>\n",
       "    <tr style=\"text-align: right;\">\n",
       "      <th></th>\n",
       "      <th>샐러드</th>\n",
       "      <th>소고기김밥</th>\n",
       "      <th>아이스크림</th>\n",
       "      <th>오뎅</th>\n",
       "      <th>우동</th>\n",
       "      <th>참치김밥</th>\n",
       "      <th>치킨</th>\n",
       "      <th>커피</th>\n",
       "      <th>콜라</th>\n",
       "      <th>티라무슈</th>\n",
       "      <th>파스타</th>\n",
       "      <th>피자</th>\n",
       "      <th>햄버거</th>\n",
       "    </tr>\n",
       "  </thead>\n",
       "  <tbody>\n",
       "    <tr>\n",
       "      <th>0</th>\n",
       "      <td>1</td>\n",
       "      <td>0</td>\n",
       "      <td>1</td>\n",
       "      <td>0</td>\n",
       "      <td>0</td>\n",
       "      <td>0</td>\n",
       "      <td>1</td>\n",
       "      <td>1</td>\n",
       "      <td>0</td>\n",
       "      <td>0</td>\n",
       "      <td>1</td>\n",
       "      <td>0</td>\n",
       "      <td>0</td>\n",
       "    </tr>\n",
       "    <tr>\n",
       "      <th>1</th>\n",
       "      <td>0</td>\n",
       "      <td>1</td>\n",
       "      <td>0</td>\n",
       "      <td>0</td>\n",
       "      <td>1</td>\n",
       "      <td>0</td>\n",
       "      <td>0</td>\n",
       "      <td>1</td>\n",
       "      <td>0</td>\n",
       "      <td>0</td>\n",
       "      <td>0</td>\n",
       "      <td>0</td>\n",
       "      <td>0</td>\n",
       "    </tr>\n",
       "    <tr>\n",
       "      <th>2</th>\n",
       "      <td>0</td>\n",
       "      <td>0</td>\n",
       "      <td>0</td>\n",
       "      <td>1</td>\n",
       "      <td>0</td>\n",
       "      <td>1</td>\n",
       "      <td>0</td>\n",
       "      <td>1</td>\n",
       "      <td>0</td>\n",
       "      <td>0</td>\n",
       "      <td>0</td>\n",
       "      <td>0</td>\n",
       "      <td>0</td>\n",
       "    </tr>\n",
       "    <tr>\n",
       "      <th>3</th>\n",
       "      <td>1</td>\n",
       "      <td>0</td>\n",
       "      <td>0</td>\n",
       "      <td>0</td>\n",
       "      <td>0</td>\n",
       "      <td>0</td>\n",
       "      <td>0</td>\n",
       "      <td>0</td>\n",
       "      <td>1</td>\n",
       "      <td>0</td>\n",
       "      <td>1</td>\n",
       "      <td>1</td>\n",
       "      <td>0</td>\n",
       "    </tr>\n",
       "    <tr>\n",
       "      <th>4</th>\n",
       "      <td>0</td>\n",
       "      <td>0</td>\n",
       "      <td>0</td>\n",
       "      <td>0</td>\n",
       "      <td>0</td>\n",
       "      <td>0</td>\n",
       "      <td>0</td>\n",
       "      <td>0</td>\n",
       "      <td>1</td>\n",
       "      <td>1</td>\n",
       "      <td>0</td>\n",
       "      <td>0</td>\n",
       "      <td>1</td>\n",
       "    </tr>\n",
       "    <tr>\n",
       "      <th>5</th>\n",
       "      <td>1</td>\n",
       "      <td>0</td>\n",
       "      <td>0</td>\n",
       "      <td>0</td>\n",
       "      <td>0</td>\n",
       "      <td>0</td>\n",
       "      <td>0</td>\n",
       "      <td>1</td>\n",
       "      <td>0</td>\n",
       "      <td>0</td>\n",
       "      <td>1</td>\n",
       "      <td>0</td>\n",
       "      <td>0</td>\n",
       "    </tr>\n",
       "  </tbody>\n",
       "</table>\n",
       "</div>"
      ],
      "text/plain": [
       "   샐러드  소고기김밥  아이스크림  오뎅  우동  참치김밥  치킨  커피  콜라  티라무슈  파스타  피자  햄버거\n",
       "0    1      0      1   0   0     0   1   1   0     0    1   0    0\n",
       "1    0      1      0   0   1     0   0   1   0     0    0   0    0\n",
       "2    0      0      0   1   0     1   0   1   0     0    0   0    0\n",
       "3    1      0      0   0   0     0   0   0   1     0    1   1    0\n",
       "4    0      0      0   0   0     0   0   0   1     1    0   0    1\n",
       "5    1      0      0   0   0     0   0   1   0     0    1   0    0"
      ]
     },
     "metadata": {},
     "output_type": "display_data"
    }
   ],
   "source": [
    "corpus = [\n",
    "           \"커피 파스타 치킨 샐러드 아이스크림\",\n",
    "           \"커피 우동 소고기김밥 귤\",\n",
    "           \"참치김밥 커피 오뎅\",\n",
    "           \"샐러드 피자 파스타 콜라\",\n",
    "           \"티라무슈 햄버거 콜라\",\n",
    "           \"파스타 샐러드 커피\"    \n",
    "]\n",
    "vector = CountVectorizer()\n",
    "dtm = vector.fit_transform(corpus).toarray()\n",
    "print(dtm) \n",
    "tf = pd.DataFrame(dtm, columns = vector.get_feature_names())\n",
    "display(tf)"
   ]
  },
  {
   "cell_type": "code",
   "execution_count": 70,
   "metadata": {},
   "outputs": [],
   "source": [
    "com = dtm.T @ dtm  # 동시 출현횟수"
   ]
  },
  {
   "cell_type": "code",
   "execution_count": 71,
   "metadata": {},
   "outputs": [
    {
     "data": {
      "text/html": [
       "<div>\n",
       "<style scoped>\n",
       "    .dataframe tbody tr th:only-of-type {\n",
       "        vertical-align: middle;\n",
       "    }\n",
       "\n",
       "    .dataframe tbody tr th {\n",
       "        vertical-align: top;\n",
       "    }\n",
       "\n",
       "    .dataframe thead th {\n",
       "        text-align: right;\n",
       "    }\n",
       "</style>\n",
       "<table border=\"1\" class=\"dataframe\">\n",
       "  <thead>\n",
       "    <tr style=\"text-align: right;\">\n",
       "      <th></th>\n",
       "      <th>샐러드</th>\n",
       "      <th>소고기김밥</th>\n",
       "      <th>아이스크림</th>\n",
       "      <th>오뎅</th>\n",
       "      <th>우동</th>\n",
       "      <th>참치김밥</th>\n",
       "      <th>치킨</th>\n",
       "      <th>커피</th>\n",
       "      <th>콜라</th>\n",
       "      <th>티라무슈</th>\n",
       "      <th>파스타</th>\n",
       "      <th>피자</th>\n",
       "      <th>햄버거</th>\n",
       "    </tr>\n",
       "  </thead>\n",
       "  <tbody>\n",
       "    <tr>\n",
       "      <th>샐러드</th>\n",
       "      <td>3</td>\n",
       "      <td>0</td>\n",
       "      <td>1</td>\n",
       "      <td>0</td>\n",
       "      <td>0</td>\n",
       "      <td>0</td>\n",
       "      <td>1</td>\n",
       "      <td>2</td>\n",
       "      <td>1</td>\n",
       "      <td>0</td>\n",
       "      <td>3</td>\n",
       "      <td>1</td>\n",
       "      <td>0</td>\n",
       "    </tr>\n",
       "    <tr>\n",
       "      <th>소고기김밥</th>\n",
       "      <td>0</td>\n",
       "      <td>1</td>\n",
       "      <td>0</td>\n",
       "      <td>0</td>\n",
       "      <td>1</td>\n",
       "      <td>0</td>\n",
       "      <td>0</td>\n",
       "      <td>1</td>\n",
       "      <td>0</td>\n",
       "      <td>0</td>\n",
       "      <td>0</td>\n",
       "      <td>0</td>\n",
       "      <td>0</td>\n",
       "    </tr>\n",
       "    <tr>\n",
       "      <th>아이스크림</th>\n",
       "      <td>1</td>\n",
       "      <td>0</td>\n",
       "      <td>1</td>\n",
       "      <td>0</td>\n",
       "      <td>0</td>\n",
       "      <td>0</td>\n",
       "      <td>1</td>\n",
       "      <td>1</td>\n",
       "      <td>0</td>\n",
       "      <td>0</td>\n",
       "      <td>1</td>\n",
       "      <td>0</td>\n",
       "      <td>0</td>\n",
       "    </tr>\n",
       "    <tr>\n",
       "      <th>오뎅</th>\n",
       "      <td>0</td>\n",
       "      <td>0</td>\n",
       "      <td>0</td>\n",
       "      <td>1</td>\n",
       "      <td>0</td>\n",
       "      <td>1</td>\n",
       "      <td>0</td>\n",
       "      <td>1</td>\n",
       "      <td>0</td>\n",
       "      <td>0</td>\n",
       "      <td>0</td>\n",
       "      <td>0</td>\n",
       "      <td>0</td>\n",
       "    </tr>\n",
       "    <tr>\n",
       "      <th>우동</th>\n",
       "      <td>0</td>\n",
       "      <td>1</td>\n",
       "      <td>0</td>\n",
       "      <td>0</td>\n",
       "      <td>1</td>\n",
       "      <td>0</td>\n",
       "      <td>0</td>\n",
       "      <td>1</td>\n",
       "      <td>0</td>\n",
       "      <td>0</td>\n",
       "      <td>0</td>\n",
       "      <td>0</td>\n",
       "      <td>0</td>\n",
       "    </tr>\n",
       "    <tr>\n",
       "      <th>참치김밥</th>\n",
       "      <td>0</td>\n",
       "      <td>0</td>\n",
       "      <td>0</td>\n",
       "      <td>1</td>\n",
       "      <td>0</td>\n",
       "      <td>1</td>\n",
       "      <td>0</td>\n",
       "      <td>1</td>\n",
       "      <td>0</td>\n",
       "      <td>0</td>\n",
       "      <td>0</td>\n",
       "      <td>0</td>\n",
       "      <td>0</td>\n",
       "    </tr>\n",
       "    <tr>\n",
       "      <th>치킨</th>\n",
       "      <td>1</td>\n",
       "      <td>0</td>\n",
       "      <td>1</td>\n",
       "      <td>0</td>\n",
       "      <td>0</td>\n",
       "      <td>0</td>\n",
       "      <td>1</td>\n",
       "      <td>1</td>\n",
       "      <td>0</td>\n",
       "      <td>0</td>\n",
       "      <td>1</td>\n",
       "      <td>0</td>\n",
       "      <td>0</td>\n",
       "    </tr>\n",
       "    <tr>\n",
       "      <th>커피</th>\n",
       "      <td>2</td>\n",
       "      <td>1</td>\n",
       "      <td>1</td>\n",
       "      <td>1</td>\n",
       "      <td>1</td>\n",
       "      <td>1</td>\n",
       "      <td>1</td>\n",
       "      <td>4</td>\n",
       "      <td>0</td>\n",
       "      <td>0</td>\n",
       "      <td>2</td>\n",
       "      <td>0</td>\n",
       "      <td>0</td>\n",
       "    </tr>\n",
       "    <tr>\n",
       "      <th>콜라</th>\n",
       "      <td>1</td>\n",
       "      <td>0</td>\n",
       "      <td>0</td>\n",
       "      <td>0</td>\n",
       "      <td>0</td>\n",
       "      <td>0</td>\n",
       "      <td>0</td>\n",
       "      <td>0</td>\n",
       "      <td>2</td>\n",
       "      <td>1</td>\n",
       "      <td>1</td>\n",
       "      <td>1</td>\n",
       "      <td>1</td>\n",
       "    </tr>\n",
       "    <tr>\n",
       "      <th>티라무슈</th>\n",
       "      <td>0</td>\n",
       "      <td>0</td>\n",
       "      <td>0</td>\n",
       "      <td>0</td>\n",
       "      <td>0</td>\n",
       "      <td>0</td>\n",
       "      <td>0</td>\n",
       "      <td>0</td>\n",
       "      <td>1</td>\n",
       "      <td>1</td>\n",
       "      <td>0</td>\n",
       "      <td>0</td>\n",
       "      <td>1</td>\n",
       "    </tr>\n",
       "    <tr>\n",
       "      <th>파스타</th>\n",
       "      <td>3</td>\n",
       "      <td>0</td>\n",
       "      <td>1</td>\n",
       "      <td>0</td>\n",
       "      <td>0</td>\n",
       "      <td>0</td>\n",
       "      <td>1</td>\n",
       "      <td>2</td>\n",
       "      <td>1</td>\n",
       "      <td>0</td>\n",
       "      <td>3</td>\n",
       "      <td>1</td>\n",
       "      <td>0</td>\n",
       "    </tr>\n",
       "    <tr>\n",
       "      <th>피자</th>\n",
       "      <td>1</td>\n",
       "      <td>0</td>\n",
       "      <td>0</td>\n",
       "      <td>0</td>\n",
       "      <td>0</td>\n",
       "      <td>0</td>\n",
       "      <td>0</td>\n",
       "      <td>0</td>\n",
       "      <td>1</td>\n",
       "      <td>0</td>\n",
       "      <td>1</td>\n",
       "      <td>1</td>\n",
       "      <td>0</td>\n",
       "    </tr>\n",
       "    <tr>\n",
       "      <th>햄버거</th>\n",
       "      <td>0</td>\n",
       "      <td>0</td>\n",
       "      <td>0</td>\n",
       "      <td>0</td>\n",
       "      <td>0</td>\n",
       "      <td>0</td>\n",
       "      <td>0</td>\n",
       "      <td>0</td>\n",
       "      <td>1</td>\n",
       "      <td>1</td>\n",
       "      <td>0</td>\n",
       "      <td>0</td>\n",
       "      <td>1</td>\n",
       "    </tr>\n",
       "  </tbody>\n",
       "</table>\n",
       "</div>"
      ],
      "text/plain": [
       "       샐러드  소고기김밥  아이스크림  오뎅  우동  참치김밥  치킨  커피  콜라  티라무슈  파스타  피자  햄버거\n",
       "샐러드      3      0      1   0   0     0   1   2   1     0    3   1    0\n",
       "소고기김밥    0      1      0   0   1     0   0   1   0     0    0   0    0\n",
       "아이스크림    1      0      1   0   0     0   1   1   0     0    1   0    0\n",
       "오뎅       0      0      0   1   0     1   0   1   0     0    0   0    0\n",
       "우동       0      1      0   0   1     0   0   1   0     0    0   0    0\n",
       "참치김밥     0      0      0   1   0     1   0   1   0     0    0   0    0\n",
       "치킨       1      0      1   0   0     0   1   1   0     0    1   0    0\n",
       "커피       2      1      1   1   1     1   1   4   0     0    2   0    0\n",
       "콜라       1      0      0   0   0     0   0   0   2     1    1   1    1\n",
       "티라무슈     0      0      0   0   0     0   0   0   1     1    0   0    1\n",
       "파스타      3      0      1   0   0     0   1   2   1     0    3   1    0\n",
       "피자       1      0      0   0   0     0   0   0   1     0    1   1    0\n",
       "햄버거      0      0      0   0   0     0   0   0   1     1    0   0    1"
      ]
     },
     "metadata": {},
     "output_type": "display_data"
    }
   ],
   "source": [
    "comdf = pd.DataFrame(com, columns = vector.get_feature_names(), index = vector.get_feature_names())\n",
    "display(comdf) #메뉴-메뉴간 분석"
   ]
  },
  {
   "cell_type": "code",
   "execution_count": 73,
   "metadata": {},
   "outputs": [],
   "source": [
    "d1 = \"aaa bbb ccc\"\n",
    "d2 = \"aaa bbb ddd\"\n",
    "d3 = \"aaa bbb ccc\"\n",
    "d4 = \"xxx yyy zzz\"\n",
    "dd = [d1, d2, d3, d4]"
   ]
  },
  {
   "cell_type": "code",
   "execution_count": 74,
   "metadata": {},
   "outputs": [
    {
     "name": "stdout",
     "output_type": "stream",
     "text": [
      "[[1 1 1 0 0 0 0]\n",
      " [1 1 0 1 0 0 0]\n",
      " [1 1 1 0 0 0 0]\n",
      " [0 0 0 0 1 1 1]]\n",
      "{'aaa': 0, 'bbb': 1, 'ccc': 2, 'ddd': 3, 'xxx': 4, 'yyy': 5, 'zzz': 6}\n"
     ]
    }
   ],
   "source": [
    "vector = CountVectorizer()\n",
    "dtm = vector.fit_transform(dd).toarray()\n",
    "print(dtm) \n",
    "print(vector.vocabulary_)"
   ]
  },
  {
   "cell_type": "code",
   "execution_count": 75,
   "metadata": {},
   "outputs": [
    {
     "name": "stdout",
     "output_type": "stream",
     "text": [
      "[[1.         0.66666667 1.         0.        ]\n",
      " [0.66666667 1.         0.66666667 0.        ]\n",
      " [1.         0.66666667 1.         0.        ]\n",
      " [0.         0.         0.         1.        ]]\n"
     ]
    }
   ],
   "source": [
    "from sklearn.metrics.pairwise import cosine_similarity\n",
    "\n",
    "similarity_simple_pair = cosine_similarity(dtm, dtm)\n",
    "print(similarity_simple_pair)\n"
   ]
  },
  {
   "cell_type": "markdown",
   "metadata": {},
   "source": [
    "## 5. 한글 자모 분해와 결합"
   ]
  },
  {
   "cell_type": "code",
   "execution_count": null,
   "metadata": {},
   "outputs": [],
   "source": [
    "import hgtk                      ## 한글의 자음과 모음을 분리하는 모듈을 사용한다 "
   ]
  },
  {
   "cell_type": "markdown",
   "metadata": {},
   "source": [
    "### 한글 자모 분해, 조합(오토마타), 조사 붙이기, 초/중/종 분해조합, 한글/한자/영문 여부 체크 등을 지원합니다."
   ]
  },
  {
   "cell_type": "code",
   "execution_count": null,
   "metadata": {},
   "outputs": [],
   "source": [
    "hgtk.letter.decompose('감')          ## 특정 글자를 분리하면 초성 중성 종성으로 분리된다 "
   ]
  },
  {
   "cell_type": "code",
   "execution_count": null,
   "metadata": {},
   "outputs": [],
   "source": [
    "hgtk.letter.compose('ㄱ', 'ㅏ', 'ㅁ')      ## 분리된 글자를 하나의 글자로 합친다. "
   ]
  },
  {
   "cell_type": "code",
   "execution_count": null,
   "metadata": {},
   "outputs": [],
   "source": [
    "sample_text = '''타밀어는 드라비다어족의 남부 계통, 즉 남부드라비다어파에 속하는 언어이다.\n",
    "공식어로 지정된 인도의 주요 언어 중에서 타밀어와 계통적으로 가장 가까운 것은 말라얄람어인데, \n",
    "9세기 무렵까지 말라얄람어는 타밀어의 방언이었다.\n",
    "이 두 언어 간에는 선사 시대에 일어난 서부 방언(말라얄람어의 원형) 분열의 증거가 되는 많은 차이가 있지만, \n",
    "13~14세기 무렵까지도 두 언어는 완전히 서로 다른 언어로 분리되지 않은 채였다.'''"
   ]
  },
  {
   "cell_type": "code",
   "execution_count": null,
   "metadata": {},
   "outputs": [],
   "source": [
    "s = hgtk.text.decompose(sample_text)        ## 여러 문장에 대해 단어를 분리한다. "
   ]
  },
  {
   "cell_type": "code",
   "execution_count": null,
   "metadata": {},
   "outputs": [],
   "source": [
    "s[:40]"
   ]
  },
  {
   "cell_type": "code",
   "execution_count": null,
   "metadata": {},
   "outputs": [],
   "source": [
    "hgtk.text.compose(s)[:40]                     ## 분리된 것을 하나로 합친다. "
   ]
  },
  {
   "cell_type": "code",
   "execution_count": null,
   "metadata": {},
   "outputs": [],
   "source": [
    "hgtk.checker.is_hangul('한글입니다')           ## 한글 여부를 확인한다 "
   ]
  },
  {
   "cell_type": "code",
   "execution_count": null,
   "metadata": {},
   "outputs": [],
   "source": [
    "hgtk.checker.is_hangul('no한글입니다')         ## 일부 영어가 들어가면 한글로 인식하지 않는다 "
   ]
  },
  {
   "cell_type": "code",
   "execution_count": null,
   "metadata": {},
   "outputs": [],
   "source": [
    "hgtk.checker.is_hangul('it is english')"
   ]
  },
  {
   "cell_type": "code",
   "execution_count": null,
   "metadata": {},
   "outputs": [],
   "source": [
    "hgtk.checker.is_hanja('大韓民國')                  ## 한자도 확인할 수 있다. "
   ]
  },
  {
   "cell_type": "code",
   "execution_count": null,
   "metadata": {},
   "outputs": [],
   "source": [
    "hgtk.checker.is_hanja('大한민국')"
   ]
  },
  {
   "cell_type": "code",
   "execution_count": null,
   "metadata": {},
   "outputs": [],
   "source": [
    "hgtk.checker.is_hanja('대한민국')"
   ]
  },
  {
   "cell_type": "markdown",
   "metadata": {},
   "source": [
    "## Josa\n",
    "EUN_NEUN - 은/는"
   ]
  },
  {
   "cell_type": "code",
   "execution_count": null,
   "metadata": {},
   "outputs": [],
   "source": [
    "hgtk.josa.attach('하늘', hgtk.josa.EUN_NEUN)                 ## 단어에 맞는 조사를 붙여볼 수 있다. "
   ]
  },
  {
   "cell_type": "code",
   "execution_count": null,
   "metadata": {},
   "outputs": [],
   "source": [
    "hgtk.josa.attach('바다', hgtk.josa.EUN_NEUN)"
   ]
  },
  {
   "cell_type": "code",
   "execution_count": null,
   "metadata": {},
   "outputs": [],
   "source": [
    "hgtk.josa.attach('하늘', hgtk.josa.I_GA)"
   ]
  },
  {
   "cell_type": "code",
   "execution_count": null,
   "metadata": {},
   "outputs": [],
   "source": [
    "hgtk.josa.attach('바다', hgtk.josa.I_GA)"
   ]
  },
  {
   "cell_type": "code",
   "execution_count": null,
   "metadata": {},
   "outputs": [],
   "source": [
    "hgtk.josa.attach('하늘', hgtk.josa.EUL_REUL)"
   ]
  },
  {
   "cell_type": "code",
   "execution_count": null,
   "metadata": {},
   "outputs": [],
   "source": [
    "hgtk.josa.attach('바다', hgtk.josa.EUL_REUL)"
   ]
  },
  {
   "cell_type": "code",
   "execution_count": null,
   "metadata": {},
   "outputs": [],
   "source": [
    "from konlpy.tag import Okt\n",
    "okt = Okt()"
   ]
  },
  {
   "cell_type": "code",
   "execution_count": 78,
   "metadata": {},
   "outputs": [
    {
     "data": {
      "text/plain": [
       "[('태양계', 'Noun'),\n",
       " ('는', 'Josa'),\n",
       " ('지금', 'Noun'),\n",
       " ('으로부터', 'Josa'),\n",
       " ('약', 'Noun'),\n",
       " ('46억', 'Number'),\n",
       " ('년', 'Noun'),\n",
       " ('전', 'Noun'),\n",
       " (',', 'Punctuation'),\n",
       " ('거대한', 'Adjective'),\n",
       " ('분자', 'Noun'),\n",
       " ('구름', 'Noun'),\n",
       " ('의', 'Josa'),\n",
       " ('일부분', 'Noun'),\n",
       " ('이', 'Josa'),\n",
       " ('중력', 'Noun'),\n",
       " ('붕괴', 'Noun'),\n",
       " ('를', 'Josa'),\n",
       " ('일으키면서', 'Verb'),\n",
       " ('형성', 'Noun'),\n",
       " ('되었다', 'Verb')]"
      ]
     },
     "execution_count": 78,
     "metadata": {},
     "output_type": "execute_result"
    }
   ],
   "source": [
    "text = '태양계는 지금으로부터 약 46억 년 전, 거대한 분자 구름의 일부분이 중력 붕괴를 일으키면서 형성되었다'\n",
    "\n",
    "okt.pos(text)"
   ]
  },
  {
   "cell_type": "code",
   "execution_count": 76,
   "metadata": {},
   "outputs": [
    {
     "data": {
      "text/plain": [
       "['둘리',\n",
       " '도우',\n",
       " '너',\n",
       " '또치',\n",
       " '마이콜',\n",
       " '희',\n",
       " '동이',\n",
       " '둘리',\n",
       " '둘리',\n",
       " '도우',\n",
       " '너',\n",
       " '또치',\n",
       " '토토',\n",
       " '로',\n",
       " '둘리',\n",
       " '올라프',\n",
       " '토토',\n",
       " '로',\n",
       " '올라프',\n",
       " '올라프']"
      ]
     },
     "execution_count": 76,
     "metadata": {},
     "output_type": "execute_result"
    }
   ],
   "source": [
    "okt.morphs(text)"
   ]
  },
  {
   "cell_type": "code",
   "execution_count": 77,
   "metadata": {},
   "outputs": [
    {
     "data": {
      "text/plain": [
       "['둘리',\n",
       " '도우',\n",
       " '너',\n",
       " '또치',\n",
       " '마이콜',\n",
       " '동이',\n",
       " '둘리',\n",
       " '둘리',\n",
       " '도우',\n",
       " '너',\n",
       " '또치',\n",
       " '토토',\n",
       " '둘리',\n",
       " '올라프',\n",
       " '토토',\n",
       " '올라프',\n",
       " '올라프']"
      ]
     },
     "execution_count": 77,
     "metadata": {},
     "output_type": "execute_result"
    }
   ],
   "source": [
    "okt.nouns(text)"
   ]
  },
  {
   "cell_type": "markdown",
   "metadata": {},
   "source": [
    "## 한글 단어 분석을 위한 패키지 준비"
   ]
  },
  {
   "cell_type": "code",
   "execution_count": 88,
   "metadata": {},
   "outputs": [],
   "source": [
    "import json\n",
    "import re\n",
    "\n",
    "from konlpy.tag import Okt\n",
    "\n",
    "from collections import Counter\n",
    "\n",
    "import matplotlib\n",
    "import matplotlib.pyplot as plt\n",
    "from matplotlib import font_manager, rc\n",
    "import wordcloud"
   ]
  },
  {
   "cell_type": "markdown",
   "metadata": {},
   "source": [
    "# 1. 데이터 준비"
   ]
  },
  {
   "cell_type": "markdown",
   "metadata": {},
   "source": [
    "### 1-1. 파일 읽기"
   ]
  },
  {
   "cell_type": "code",
   "execution_count": 89,
   "metadata": {},
   "outputs": [
    {
     "data": {
      "text/plain": [
       "[{'created_time': '2018-06-20 18:06:39',\n",
       "  'link': 'https://www.facebook.com/etnews.kr/videos/1981346601899735/',\n",
       "  'message': '6월의 스파크포럼 - \"미래 시대, 조직의 변화도 시작됐다!\"\\n\\n스파크포럼은 현 사회의 사회문제 및 이슈를 제기하고, 그 이슈를 혁신적으로 해결하고자 하는 소셜이노베이터를 발굴, 지원하여 우리 사회 따뜻한 변화를 확산시키지 위해 만들어진 도전과 만남의 자리입니다.\\n\\n6월의 스파크포럼에서는 4차 산업혁명 시대의 기업조직과 조직문화를 살펴보고, 조직의 변화를 받아들이고 실험해나가는 사례를 통해 미래 시대 조직이 나아가야 할 방향을 함께 생각해보고자 합니다.',\n",
       "  'name': '6월의 스파크포럼 - \"미래 시대, 조직의 변화도 시작됐다!\"',\n",
       "  'post_id': '407886705912407_1981346601899735',\n",
       "  'total_comments': 3},\n",
       " {'created_time': '2018-06-14 10:41:16',\n",
       "  'link': 'http://www.etnews.com/20180612000347',\n",
       "  'message': '로봇이 4차 산업혁명 주요 성장 동력으로 떠오르면서 국내 로봇 기업에 재평가가 이뤄지고 있다는 분석입니다.',\n",
       "  'name': '기술력 갖춘 로봇기업 몸값 치솟는다',\n",
       "  'post_id': '407886705912407_1971252229575839',\n",
       "  'total_comments': 0},\n",
       " {'created_time': '2018-04-10 17:42:00',\n",
       "  'link': 'http://www.etnews.com/20180409000360?mc=em_002_00001',\n",
       "  'message': '4차 산업혁명 시대 금융 산업 전반 점검해야 한다는...',\n",
       "  'name': \"휘청거리는 대한민국 '금융'...서민도 기업도 ICT도 실종\",\n",
       "  'post_id': '407886705912407_1900738133293916',\n",
       "  'total_comments': 0},\n",
       " {'created_time': '2018-03-05 12:05:00',\n",
       "  'link': 'https://goo.gl/qPEyAJ',\n",
       "  'message': \"공통 간판 공약은 '4차 산업혁명 선도 도시 구현'과 '가상화폐·블록체인 기술 활용' 등입니다. https://goo.gl/qPEyAJ\",\n",
       "  'name': \"지방선거 D-100 정책 공약 '4차산업혁명'에 초점\",\n",
       "  'post_id': '407886705912407_1859978837369846',\n",
       "  'total_comments': 0},\n",
       " {'created_time': '2018-02-05 17:20:01',\n",
       "  'link': 'http://www.etnews.com/20180205000237',\n",
       "  'message': '이번 과정은 4차 산업혁명 핵심 기술인 AI에 대한 통찰력과 알파고를 통해 우리 일상과 익숙해진 로봇, 빅데이터 산업 흐름을 알려줍니다. #인공지능 #최고위과정 #산학연최고전문가 https://goo.gl/jSZSNX',\n",
       "  'name': '[알림]제2기 인공지능 최고위 과정 모집',\n",
       "  'post_id': '407886705912407_1829059807128416',\n",
       "  'total_comments': 0},\n",
       " {'created_time': '2018-01-29 23:39:00',\n",
       "  'link': 'http://www.etnews.com/20180129000403?mc=em_003_00001',\n",
       "  'message': '4차 산업혁명 모든 기술과 서비스 구현',\n",
       "  'name': \"첫 스마트시티 '부산·세종' 낙점...규제 프리존으로\",\n",
       "  'post_id': '407886705912407_1821177084583355',\n",
       "  'total_comments': 0},\n",
       " {'created_time': '2017-11-09 18:11:43',\n",
       "  'link': 'http://www.sek.co.kr/2017/nbf',\n",
       "  'message': '산업혁명의 나라, 영국엔 4차 산업혁명이 없다?\\n한국-영국 경험과 지혜를 모으는 ‘미래비즈니스포럼 2017’ 개최',\n",
       "  'name': '미래비즈니스포럼 2017 : 손에 잡히는 4차 산업혁명',\n",
       "  'post_id': '407886705912407_1735224763178588',\n",
       "  'total_comments': 0},\n",
       " {'created_time': '2017-10-25 13:08:49',\n",
       "  'link': 'https://www.facebook.com/etnews.kr/videos/1720053844695680/',\n",
       "  'message': \"[전자신문TV 라이브] SBA 신직업위크\\n\\n4차 산업혁명 시대의 경쟁력 확보와 일자리 창출의 해법을 신직업에서 찾고 있는 서울산업진흥원(SBA)이 자신들의 역량과 노력을 모두 담은 '제 2회 신직업위크'를 진행하고 있습니다.\\n\\n이번 전자신문TV라이브는 서울 대치동 SBA 신직업교육센터에서 강만구 신직업교육팀장과 서지윤 신직업리서치팀수석, 윤석원 테스트웍스 대표 등과 함께 '제 2회 신직업위크'와 최신 신직업트렌드를 알아보는 시간으로 마련했습니다. 많은 시청 바랍니다. \\n\\n#전자신문 #전자신문엔터 #전자신문TV #라이브 #소셜방송 #현장라이브 #손보련 #신직업위크 #서울산업진흥원 #SBA #신직업 #서울 #강만구 #서지윤 #윤석원 #테스트웍스 #소프트웨어 #테스터 #소프트웨어테스터\",\n",
       "  'name': '[전자신문TV 라이브] SBA 신직업위크',\n",
       "  'post_id': '407886705912407_1720053844695680',\n",
       "  'total_comments': 0},\n",
       " {'created_time': '2017-10-06 11:50:00',\n",
       "  'link': 'http://www.etnews.com/20171005000056?mc=em_011_00001',\n",
       "  'message': '혹시 우리나라도?~~4차 산업혁명 시대 떠오르는 일자리 전략으로 강추~~',\n",
       "  'name': '日, 인공지능 활용능력 자격시험 만든다',\n",
       "  'post_id': '407886705912407_1700789646622100',\n",
       "  'total_comments': 1},\n",
       " {'created_time': '2017-09-25 15:30:00',\n",
       "  'link': 'http://www.etnews.com/20170924000106?mc=em_003_00001',\n",
       "  'message': '4차 산업혁명 대응에 가장 강점 분야는 5세대 이동통신...건강한 산업 생태계 조성 노력 강조',\n",
       "  'name': \"김상조 공정위원장 “기업집단국, 조사국과 달라…'존경받는 기업' 만드는 게 핵심”\",\n",
       "  'post_id': '407886705912407_1691461310888267',\n",
       "  'total_comments': 0},\n",
       " {'created_time': '2017-08-29 00:54:00',\n",
       "  'link': 'http://www.etnews.com/20170825000162?mc=em_009_00001',\n",
       "  'message': \"중앙부처 공무원 51.3% '4차 산업혁명 관련 가장 시급히 대응해야 할 기술적 과제'로 빅데이터 활용 꼽\",\n",
       "  'name': '현직 공무원들 \"빅데이터·AI, 정책에 적극 활용\"…4차 산업혁명 인식 높아',\n",
       "  'post_id': '407886705912407_1665258370175228',\n",
       "  'total_comments': 1},\n",
       " {'created_time': '2017-08-17 15:37:14',\n",
       "  'link': 'https://www.facebook.com/etnews.kr/videos/1655135431187522/',\n",
       "  'message': '[전자신문TV 라이브] 직격인터뷰 - 서울산업진흥원(SBA) 주형철 대표이사\\n\\n최근 각급 공공기관들이 4차 산업혁명기를 맞은 국내 중소기업의 경쟁력과 일자리 창출을 위해 노력하고 있는데요.\\n\\n이번 전자신문TV 라이브는 중소기업 활성화와 일자리 창출에 앞장서는 공공기관 중 대표적 사례로 꼽히는 서울산업진흥원 주형철 대표이사를 모시고 다양한 이야기를 듣는 시간으로 진행됩니다.\\n\\n#전자신문 #전자신문TV #서울산업진흥원 #SBA #주형철 #소성렬',\n",
       "  'name': '[전자신문TV 라이브] 직격인터뷰 - 서울산업진흥원(SBA) 주형철 대표이사',\n",
       "  'post_id': '407886705912407_1655135431187522',\n",
       "  'total_comments': 15},\n",
       " {'created_time': '2017-08-12 17:48:00',\n",
       "  'link': 'http://www.etnews.com/20170810000414?mc=em_009_00001',\n",
       "  'message': '4차 산업혁명 대응은 일자리 창출과 함께 문재인 정부 주요 국정 과제인 데도 우선순위에서 밀렸다는 지적',\n",
       "  'name': '4차 산업혁명위 출범 후순위로 밀렸다',\n",
       "  'post_id': '407886705912407_1648865381814527',\n",
       "  'total_comments': 0},\n",
       " {'created_time': '2017-06-09 22:00:00',\n",
       "  'link': 'http://www.etnews.com/20170608000300?mc=em_009_00001',\n",
       "  'message': '통합·개혁 행보에서 빠른 움직임을 보였지만 4차 산업혁명 등 신성장동력 창출에서는 한 발짝도 못 나갔다는 평입니다...',\n",
       "  'name': \"새정부 출범 한 달...'통합·개혁'엔 진일보, '4차 산업혁명 대응' 한발짝도 못 나가\",\n",
       "  'post_id': '407886705912407_1579376925430040',\n",
       "  'total_comments': 4},\n",
       " {'created_time': '2017-05-24 18:30:00',\n",
       "  'link': 'http://www.etnews.com/20170524000281?mc=em_001_00001',\n",
       "  'message': \"미래창조과학부가 주최하고 전자신문사, 한국경제신문, 한국정보통신진흥협회(KAIT) 주관으로 24일 서울 강남구 삼성동 코엑스에서 개막된 '월드IT쇼(WIS) 2017'은 4차 산업혁명이 더 이상 개념이 아니라 현실로 다가왔음을 입증했습니다~\",\n",
       "  'name': '[WIS 2017]4차 산업혁명, 현실과 마주한 날',\n",
       "  'post_id': '407886705912407_1562807837086949',\n",
       "  'total_comments': 0},\n",
       " {'created_time': '2017-05-17 18:38:04',\n",
       "  'link': 'https://www.facebook.com/etnews.kr/photos/a.409377469096664/1556319464402453/?type=3',\n",
       "  'message': '[전자신문TV 라이브 예고]\\n이번 전자신문TV는 4차 산업혁명과 과학기술 영상컨퍼런스를 생중계합니다~! 광운대학교 이승현 교수님을 모시고 진행하는 이번 행사는 VR. AR 기술과 몰힙형 미디어에 대해 설명해 주신다고 합니다!\\n\\n이번 행사는 전자신문 Entertainment와 가상현실 스튜디오 솔루션을 제작한 다림비젼, 중견기업TV와 함께  4차 산업 정보 채널 IBSB(IT Tech. & Business SNS Broadcast)를 통해 진행합니다.\\n\\nIBSB는 전세계 4차 산업 혁명의 현장의 생생한 IT 소식과 정보, 컨퍼런스의 강연, VOD정보를 VR 기술과 원격 Live방송 기술을 중심으로 시간과 거리를 초월하는 실시간 TELE-Presentation 기술의 새로운 방송 서비스입니다.\\n\\n이런 유익한 강의를 전자신문 페이스북을 통해서 시청하실 수 있습니다~ 많은 관심부탁드립니다♥',\n",
       "  'name': 'Timeline Photos',\n",
       "  'post_id': '407886705912407_1556319464402453',\n",
       "  'total_comments': 1},\n",
       " {'created_time': '2017-04-05 07:00:00',\n",
       "  'link': 'http://www.etnews.com/20170404000230',\n",
       "  'message': '대선 국면이지만 법안의 시급성 때문에 4차 산업혁명 대비 법제 개편 논의가 불붙을 전망입니다...',\n",
       "  'name': \"'4차 산업혁명 기본법' 나왔다…대선 기간 법제화 논의 불붙을듯\",\n",
       "  'post_id': '407886705912407_1505222409512159',\n",
       "  'total_comments': 1},\n",
       " {'created_time': '2017-02-14 08:30:01',\n",
       "  'link': 'http://www.etnews.com/20170213000307',\n",
       "  'message': '4차 산업혁명 시대 대비!!!',\n",
       "  'name': '[차기 정부 거버넌스 개편 방향 좌담회]\"400조 정부, 혁신부총리가 답이다\"',\n",
       "  'post_id': '407886705912407_1452393468128387',\n",
       "  'total_comments': 0},\n",
       " {'created_time': '2016-01-25 06:00:00',\n",
       "  'link': 'http://www.etnews.com/20160124000075',\n",
       "  'message': '‘#4차산업혁명 의 이해(Mastering the Fourth Industrial Revolution)’...\\n23일 폐막한 #다보스포럼 에서는  4차 산업혁명 기대와 우려가 교차했는데요. 구글, 애플, 페이스북, 삼성전자, LG전자가 앞다퉈 4차 산업혁명 흐름에 뛰어 들고 있습니다.',\n",
       "  'name': '[이슈분석]다보스포럼, 4차 산업혁명 기대와 우려 교차',\n",
       "  'post_id': '407886705912407_1106254916075579',\n",
       "  'total_comments': 0}]"
      ]
     },
     "execution_count": 89,
     "metadata": {},
     "output_type": "execute_result"
    }
   ],
   "source": [
    "filename = 'etnews.kr_facebook_2016-01-01_2018-08-01_4차 산업혁명'\n",
    "inputFileName = 'data/'+filename\n",
    "data = json.loads(open(inputFileName+'.json', 'r', encoding='utf-8').read())\n",
    "data #출력하여 내용 확인"
   ]
  },
  {
   "cell_type": "markdown",
   "metadata": {},
   "source": [
    "### 1-2. 분석할 데이터 추출"
   ]
  },
  {
   "cell_type": "code",
   "execution_count": 84,
   "metadata": {},
   "outputs": [
    {
     "ename": "AttributeError",
     "evalue": "'tuple' object has no attribute 'keys'",
     "output_type": "error",
     "traceback": [
      "\u001b[1;31m---------------------------------------------------------------------------\u001b[0m",
      "\u001b[1;31mAttributeError\u001b[0m                            Traceback (most recent call last)",
      "\u001b[1;32m<ipython-input-84-fdc04c658cd3>\u001b[0m in \u001b[0;36m<module>\u001b[1;34m\u001b[0m\n\u001b[0;32m      2\u001b[0m \u001b[1;33m\u001b[0m\u001b[0m\n\u001b[0;32m      3\u001b[0m \u001b[1;32mfor\u001b[0m \u001b[0mitem\u001b[0m \u001b[1;32min\u001b[0m \u001b[0mdata\u001b[0m\u001b[1;33m:\u001b[0m\u001b[1;33m\u001b[0m\u001b[1;33m\u001b[0m\u001b[0m\n\u001b[1;32m----> 4\u001b[1;33m     \u001b[1;32mif\u001b[0m \u001b[1;34m'message'\u001b[0m \u001b[1;32min\u001b[0m \u001b[0mitem\u001b[0m\u001b[1;33m.\u001b[0m\u001b[0mkeys\u001b[0m\u001b[1;33m(\u001b[0m\u001b[1;33m)\u001b[0m\u001b[1;33m:\u001b[0m\u001b[1;33m\u001b[0m\u001b[1;33m\u001b[0m\u001b[0m\n\u001b[0m\u001b[0;32m      5\u001b[0m         \u001b[0mmessage\u001b[0m \u001b[1;33m=\u001b[0m \u001b[0mmessage\u001b[0m \u001b[1;33m+\u001b[0m \u001b[0mre\u001b[0m\u001b[1;33m.\u001b[0m\u001b[0msub\u001b[0m\u001b[1;33m(\u001b[0m\u001b[1;34m'[^\\w]'\u001b[0m\u001b[1;33m,\u001b[0m \u001b[1;34m' '\u001b[0m\u001b[1;33m,\u001b[0m \u001b[0mitem\u001b[0m\u001b[1;33m[\u001b[0m\u001b[1;34m'message'\u001b[0m\u001b[1;33m]\u001b[0m\u001b[1;33m)\u001b[0m \u001b[1;33m+\u001b[0m\u001b[1;34m''\u001b[0m\u001b[1;33m\u001b[0m\u001b[1;33m\u001b[0m\u001b[0m\n\u001b[0;32m      6\u001b[0m \u001b[1;33m\u001b[0m\u001b[0m\n",
      "\u001b[1;31mAttributeError\u001b[0m: 'tuple' object has no attribute 'keys'"
     ]
    }
   ],
   "source": [
    "message = ''\n",
    "\n",
    "for item in data:\n",
    "    if 'message' in item.keys(): \n",
    "        message = message + re.sub('[^\\w]', ' ', item['message']) +''\n",
    "        \n",
    "message #출력하여 내용 확인"
   ]
  },
  {
   "cell_type": "markdown",
   "metadata": {},
   "source": [
    "### 1-3. 품사 태깅 : 명사 추출"
   ]
  },
  {
   "cell_type": "code",
   "execution_count": null,
   "metadata": {
    "scrolled": true
   },
   "outputs": [],
   "source": [
    "nlp = Okt()\n",
    "message_N = nlp.nouns(message)\n",
    "message_N   #출력하여 내용 확인"
   ]
  },
  {
   "cell_type": "markdown",
   "metadata": {},
   "source": [
    "## 2. 데이터 탐색"
   ]
  },
  {
   "cell_type": "markdown",
   "metadata": {},
   "source": [
    "### 2-1. 단어 빈도 탐색"
   ]
  },
  {
   "cell_type": "code",
   "execution_count": null,
   "metadata": {},
   "outputs": [],
   "source": [
    "count = Counter(message_N)\n",
    "\n",
    "count   #출력하여 내용 확인"
   ]
  },
  {
   "cell_type": "code",
   "execution_count": null,
   "metadata": {
    "scrolled": true
   },
   "outputs": [],
   "source": [
    "word_count = dict()\n",
    "\n",
    "for tag, counts in count.most_common(80):\n",
    "    if(len(str(tag))>1):\n",
    "        word_count[tag] = counts\n",
    "        print(\"%s : %d\" % (tag, counts))"
   ]
  },
  {
   "cell_type": "markdown",
   "metadata": {},
   "source": [
    "### 히스토그램"
   ]
  },
  {
   "cell_type": "code",
   "execution_count": null,
   "metadata": {},
   "outputs": [],
   "source": [
    "from matplotlib import font_manager, rc\n",
    "font_path = \"data/THEdog.ttf\"   #폰트파일의 위치\n",
    "font_name = font_manager.FontProperties(fname=font_path).get_name()\n",
    "rc('font', family=font_name)"
   ]
  },
  {
   "cell_type": "code",
   "execution_count": null,
   "metadata": {
    "scrolled": true
   },
   "outputs": [],
   "source": [
    "plt.figure(figsize=(12,5))\n",
    "plt.xlabel('키워드')\n",
    "plt.ylabel('빈도수')\n",
    "plt.grid(True)\n",
    "\n",
    "sorted_Keys = sorted(word_count, key=word_count.get, reverse=True)\n",
    "sorted_Values = sorted(word_count.values(), reverse=True)\n",
    "\n",
    "plt.bar(range(len(word_count)), sorted_Values, align='center')\n",
    "plt.xticks(range(len(word_count)), list(sorted_Keys), rotation='75')\n",
    "\n",
    "plt.show()"
   ]
  },
  {
   "cell_type": "code",
   "execution_count": null,
   "metadata": {},
   "outputs": [],
   "source": [
    "word_count"
   ]
  },
  {
   "cell_type": "markdown",
   "metadata": {},
   "source": [
    "### 워드클라우드"
   ]
  },
  {
   "cell_type": "code",
   "execution_count": null,
   "metadata": {},
   "outputs": [],
   "source": [
    "wc = WordCloud(font_path, background_color='ivory', width=800, height=600)\n",
    "cloud=wc.generate_from_frequencies(word_count)\n",
    "\n",
    "plt.figure(figsize=(8,8))\n",
    "plt.imshow(cloud)\n",
    "plt.axis('off')\n",
    "plt.show()"
   ]
  }
 ],
 "metadata": {
  "kernelspec": {
   "display_name": "pydatavenv",
   "language": "python",
   "name": "pydatavenv"
  },
  "language_info": {
   "codemirror_mode": {
    "name": "ipython",
    "version": 3
   },
   "file_extension": ".py",
   "mimetype": "text/x-python",
   "name": "python",
   "nbconvert_exporter": "python",
   "pygments_lexer": "ipython3",
   "version": "3.8.8"
  }
 },
 "nbformat": 4,
 "nbformat_minor": 4
}
